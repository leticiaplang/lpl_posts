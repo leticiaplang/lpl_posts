{
  "nbformat": 4,
  "nbformat_minor": 0,
  "metadata": {
    "colab": {
      "name": "2021-02-08-web_scraping_p2.ipynb",
      "provenance": [],
      "collapsed_sections": []
    },
    "kernelspec": {
      "name": "python3",
      "display_name": "Python 3"
    },
    "language_info": {
      "name": "python"
    }
  },
  "cells": [
    {
      "cell_type": "markdown",
      "source": [
        "# pt-BR | Web scraping - Beautiful Soup\n",
        "> \"Beautiful Soup & Python.\"\n",
        "- toc: false\n",
        "- branch: master\n",
        "- badges: true\n",
        "- comments: false\n",
        "- categories: [fastpages, jupyter]\n",
        "- hide: false\n",
        "- author: leticiaplang"
      ],
      "metadata": {
        "id": "-UaM6oghpLam"
      }
    },
    {
      "cell_type": "markdown",
      "source": [
        "Seguindo com o **web scraping**, teremos nesse notebook a coleta de dados utilizando o **Beautiful Soup**. Diferente o Selenium, não utilizaremos janela de web para realizar o processo, faremos isso às cegas por meio de comendos."
      ],
      "metadata": {
        "id": "0xb-HpEIYK_8"
      }
    },
    {
      "cell_type": "markdown",
      "source": [
        "### Web scraping com Beautiful Soup e Python"
      ],
      "metadata": {
        "id": "PPDtKbcIZGsf"
      }
    },
    {
      "cell_type": "markdown",
      "source": [
        "Para inciarmos o processo manteremos a realização de todas as instalações ou importações das bibliotecas ou pacotes que iremos utilizar. \n",
        "* **bs4** é a biblioteca que contém o beautiful soup. A característica dessa função é varrer todos os dados da página web (HTML), identificando grupos que contenham as informações que queremos. \n",
        "* **Pandas** é essencial para transformarmos os dados em estrutura de data frame, que possui mesma estrutura de uma tabela (clolunas e linhas).\n"
      ],
      "metadata": {
        "id": "s3hBM5URYLCm"
      }
    },
    {
      "cell_type": "code",
      "source": [
        "# Importações\n",
        "import time  #se necessário utilizar um tempo de espera para rodar as próximas células\n",
        "from bs4 import BeautifulSoup #biblioteca que contém módulo que utilizaremos\n",
        "import pandas as pd #dataframe e exploração dos dados"
      ],
      "metadata": {
        "id": "TFcx_NlmY5oK"
      },
      "execution_count": null,
      "outputs": []
    },
    {
      "cell_type": "markdown",
      "source": [
        "Nesse artigo já abordarei o web scraping automatizado para rodar até n páginas definidas por mim. Poderíamos ter determinado esse valor automaticamente, retirando informações do próprio site, mas por hora abordarei deste modo para não dificultar a compreensão.\n",
        "\n",
        "Achou muito confuso? Não se preocupe que irei abordar etapa por etapa desse código 😃 "
      ],
      "metadata": {
        "id": "acXYUOJbuuZx"
      }
    },
    {
      "cell_type": "code",
      "source": [
        "df_orig = pd.DataFrame(columns=['product', \n",
        "                               'area', \n",
        "                               'room', \n",
        "                               'bath', \n",
        "                               'garage', \n",
        "                               'adress', \n",
        "                               'price'])\n",
        "page = 1\n",
        "\n",
        "while page <=3:\n",
        "    # Viva Real homepage\n",
        "    url = f'https://www.imoveis.com.br/aluguel/sao-paulo/saopaulo/?pagina={page}'\n",
        "    time.sleep(3)    \n",
        "    # Usaremos o request para realizar a requisição\n",
        "    vr_response = requests.get(url)\n",
        "    time.sleep(2)\n",
        "    # Conversão da resposta para HTML Usando Beautiful Soup\n",
        "    vr_soup = BeautifulSoup(vr_response.text, 'html.parser')\n",
        "    time.sleep(2)\n",
        "    prod_lists = [product.text.lower() for product in vr_soup.find_all('span', {'class':'property-card__title'})]\n",
        "    area_lists = [area.text.lower() for area in vr_soup.find_all('li', {'class':'property-card__detail-area'})]\n",
        "    room_lists = [room.text.lower() for room in vr_soup.find_all('li', {'class':'property-card__detail-room'})]\n",
        "    bath_lists = [bath.text.lower() for bath in vr_soup.find_all('li', {'class': 'property-card__detail-bathroom'})]\n",
        "    garage_lists = [garage.text.lower() for garage in vr_soup.find_all('li', {'class':'property-card__detail-garage'})]\n",
        "    adress_lists = [adress.text.lower() for adress in vr_soup.find_all('span', {'class':'property-card__address'})]\n",
        "    price_lists = [price.text.lower() for price in vr_soup.find_all('div', {'class':'property-card__price'})]\n",
        "    page += 1\n",
        "    df_orig = df_orig.append(pd.DataFrame({'product':prod_lists, \n",
        "                                           'area':area_lists, \n",
        "                                           'room':room_lists, \n",
        "                                           'bath':bath_lists, \n",
        "                                           'garage':garage_lists, \n",
        "                                           'adress':adress_lists, \n",
        "                                           'price':price_lists}))"
      ],
      "metadata": {
        "id": "PVvl8XhJuu3_"
      },
      "execution_count": null,
      "outputs": []
    },
    {
      "cell_type": "markdown",
      "source": [
        "Quando utilizamos o **while** precisamos ter um limite que se torne falso para que você não entre em um looping infinito dos dados. Nesse caso, defino o número de páginas que vou querer analisar, iniciando pela página 1. Perceba que a página está fora do loop while, senão ela iria sempre reiniciar na 1 a cada vez que um novo ciclo se iniciasse, caindo no tal loop infinito.\n",
        "\n",
        "Dentro do while defino a página que é de meu interesse realizar o web scraping. Nessa situação inserimos a **página que está com os dados que queremos coletar**, ou seja, se eu quiser buscar imóveis de São Paulo, preciso previamente ir no site, definir os critérios de busca para então saber qual é a URL que irei utilizar para a coleta com b4s.\n",
        "\n",
        "Após isso, devemos analizar a URL do site. Clique para ir a próxima página e identifique **como a URL se estrutura**. Essa é a que iremos inserir no loop para que possamos estar fazendo o scrapping de todas as páginas do site.\n",
        "\n",
        "No local da URL que possui o número dois (segunda página) iremos trocar por chaves que componham a variável página que definimos previamente. \n",
        "\n",
        "Após definida a URL, precisamos solicitar acesso para pegarmos os dados. Salvamos em uma variável, pois a resposta conterá informações do site que estamos buscando. Por tal motivo é que extraímos o texto dessa resposta para utilizarmos o \"buscador de informações\" do b4s chamado html.parser nesse caso.\n"
      ],
      "metadata": {
        "id": "XBjIMSXVyS_w"
      }
    },
    {
      "cell_type": "code",
      "source": [
        "page = 1\n",
        "\n",
        "while page <=3:\n",
        "    # Imóveis homepage\n",
        "    url = f'https://www.imoveis.com.br/aluguel/sao-paulo/saopaulo/?pagina={page}'\n",
        "    time.sleep(3)    \n",
        "    # Usaremos o request para realizar a requisição\n",
        "    vr_response = requests.get(url)\n",
        "    time.sleep(2)\n",
        "     # Conversão da resposta para HTML Usando Beautiful Soup\n",
        "    vr_soup = BeautifulSoup(vr_response.text, 'html.parser')\n",
        "    time.sleep(2)"
      ],
      "metadata": {
        "id": "59xNZzTvySXb"
      },
      "execution_count": null,
      "outputs": []
    },
    {
      "cell_type": "markdown",
      "source": [
        "Tendo a URL definida com os dados que queremos, precisamos então descobrir quais são os elementos que buscamos na página. Você lembra como se faz? 🤔\n",
        "\n",
        "No web scraping parte 1 abordei como podemos realizar a inspeção do elemento da página web e encontrar os elementos que caracterizem o dado que buscamos. Maaas, spoiler alert, não há fórmula perfeita, você precisará colocar a mão na massa e descobrir por tentativa e erro.\n",
        "\n",
        "Iremos aqui trabalhar com **list comprehensions** 😎 e a lógica da construção é a seguinte:\n",
        "* Definimos qual o output que queremos\n",
        "* Definimos um for loop para que possamos passar dado a dado e transformar adequadamente cada um deles\n",
        "* Inserimos dentro de dois colchetes que definem que o outpur será uma lista de valores.\n",
        "\n",
        "Aqui defino como output cada nome de produto será texto minúsculo. \n",
        "\n",
        "O for loop irá procurar cada valor dentro dos valores que o \"buscador de valores\" do b4s encontrou no site que fecham os os identificadores que defini. \n",
        "  \n",
        "*vr_soup* é a variável que contém os dados HTML do site e o buscador\n",
        "\n",
        "*find_all* define que queremos que o \"buscador\" traga todos os itens que possuem a característica de definimos\n",
        "\n",
        "* a característica é definida por: (grande grupo(elemento que identifica determinada informação dentro do grande grupo))\n",
        "* Perceba que difrentemente do selenium, devemos informar que é uma classe para depois informar a designação do delemento."
      ],
      "metadata": {
        "id": "L6e838WT0Ope"
      }
    },
    {
      "cell_type": "code",
      "source": [
        "    # Definindo a construção das listas para cada tipo de informação\n",
        "    prod_lists = [product.text.lower() for product in vr_soup.find_all('span', {'class':'property-card__title'})]\n",
        "    area_lists = [area.text.lower() for area in vr_soup.find_all('li', {'class':'property-card__detail-area'})]\n",
        "    room_lists = [room.text.lower() for room in vr_soup.find_all('li', {'class':'property-card__detail-room'})]\n",
        "    bath_lists = [bath.text.lower() for bath in vr_soup.find_all('li', {'class': 'property-card__detail-bathroom'})]\n",
        "    garage_lists = [garage.text.lower() for garage in vr_soup.find_all('li', {'class':'property-card__detail-garage'})]\n",
        "    adress_lists = [adress.text.lower() for adress in vr_soup.find_all('span', {'class':'property-card__address'})]\n",
        "    price_lists = [price.text.lower() for price in vr_soup.find_all('div', {'class':'property-card__price'})]"
      ],
      "metadata": {
        "id": "GcwbG7-b0O5A"
      },
      "execution_count": null,
      "outputs": []
    },
    {
      "cell_type": "markdown",
      "source": [
        "Na parte final do código, ainda dentro do while loop, iremos inserir o código que fará o valor da página trocar e iremos adicionar ao dataframe os valores/informações retiradas.\n",
        "\n",
        "Antes de iniciarmos o while loop, devemos criar a estrtura do data frame/tabela que queremos ter como resultado, definindo apenas as colunas."
      ],
      "metadata": {
        "id": "drlQp7-n5Uwt"
      }
    },
    {
      "cell_type": "code",
      "source": [
        "# Definindo a estrtura do data frame fora do while loop\n",
        "df = pd.DataFrame(columns=['product', \n",
        "                           'area', \n",
        "                           'room', \n",
        "                           'bath', \n",
        "                           'garage', \n",
        "                           'adress', \n",
        "                           'price'])"
      ],
      "metadata": {
        "id": "9K69tmnj5Y_M"
      },
      "execution_count": null,
      "outputs": []
    },
    {
      "cell_type": "markdown",
      "source": [
        "Tendo este data frame criado, é possível inserir novas informações nele por meio do uso do 'append', em formato de DF contendo em um dicionário coluna : lista de valores.\n",
        "\n",
        "Além disso teremos como definição do número da página, o valor da página daquele loop + 1. Quando a página for igual a 4, o while não irá continuar, uma vez que o retorno será False por não ser menor ou igual a 3."
      ],
      "metadata": {
        "id": "6IiTvVd56mRD"
      }
    },
    {
      "cell_type": "code",
      "source": [
        "    page += 1\n",
        "    df = df.append(pd.DataFrame({'product':prod_lists, \n",
        "                                 'area':area_lists, \n",
        "                                 'room':room_lists, \n",
        "                                 'bath':bath_lists, \n",
        "                                 'garage':garage_lists, \n",
        "                                 'adress':adress_lists, \n",
        "                                 'price':price_lists}))"
      ],
      "metadata": {
        "id": "KwIxDjMy5VDR"
      },
      "execution_count": null,
      "outputs": []
    },
    {
      "cell_type": "markdown",
      "source": [
        "Saindo do while loop, podemos verificar as informações do DF e exportá-lo para a máquina local"
      ],
      "metadata": {
        "id": "rrxd8bwf75gc"
      }
    },
    {
      "cell_type": "code",
      "source": [
        "df.head() #verificar as 5 primeiras linhas\n",
        "df.shape() #verificar número de linhas e colunas \n",
        "df.duplicated() #verificar se há valores duplicados"
      ],
      "metadata": {
        "id": "TA_DqUt376W3"
      },
      "execution_count": null,
      "outputs": []
    },
    {
      "cell_type": "code",
      "source": [
        "df.to_csv('imoveis.csv') #exportar df para máquina local"
      ],
      "metadata": {
        "id": "BBAgJoqE761W"
      },
      "execution_count": null,
      "outputs": []
    }
  ]
}
