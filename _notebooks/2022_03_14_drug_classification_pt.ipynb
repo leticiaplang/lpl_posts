{
  "nbformat": 4,
  "nbformat_minor": 0,
  "metadata": {
    "colab": {
      "name": "2022_03_14_drug_classification_pt.ipynb",
      "provenance": [],
      "collapsed_sections": [
        "yEkNXvERLYQg"
      ],
      "toc_visible": true,
      "include_colab_link": true
    },
    "kernelspec": {
      "name": "python3",
      "display_name": "Python 3"
    },
    "language_info": {
      "name": "python"
    }
  },
  "cells": [
    {
      "cell_type": "markdown",
      "metadata": {
        "id": "view-in-github",
        "colab_type": "text"
      },
      "source": [
        "<a href=\"https://colab.research.google.com/github/leticiaplang/lpl_posts/blob/master/_notebooks/2022_03_14_drug_classification_pt.ipynb\" target=\"_parent\"><img src=\"https://colab.research.google.com/assets/colab-badge.svg\" alt=\"Open In Colab\"/></a>"
      ]
    },
    {
      "cell_type": "markdown",
      "source": [
        "# pt-BR | Drug Classification\n",
        "> \"Limpeza de dados, transformação de dados, insights para o negócio, algorítimo de classificação.\"\n",
        "\n",
        "- toc: false\n",
        "- branch: master\n",
        "- badges: true\n",
        "- comments: false\n",
        "- categories: [notebook, análise de dados, ciência de dados]\n",
        "- hide: false\n",
        "- author: leticiaplang"
      ],
      "metadata": {
        "id": "uN5w0_qgFPst"
      }
    },
    {
      "cell_type": "markdown",
      "source": [
        "# Drug Classification\n",
        "\n",
        "## Problema de Negócio\n",
        "\n",
        "Uma das grandes dores dos serviços de saúde são os erros relacionados a medicamentos. De acordo com o artigo de Rayhan A. e colegas, os erros de pescrição \n",
        "e solicitação englobam 50% dos erros totais relacionamentos a medicamentos. O dano não ocorre apesas ao paciente, familiar ou aos profissionais, mas também à própria empresa, uma vez que são estimados gastos maiores a 40 bilhões de dólares por ano para o cuidado desses pacientes. Este algoritmo é o primeiro passo para a construção de um MVP (produto mínimo viável) visando auxílio para prescrição de medicamentos segura. Após, será realizada análise de dose, juntamente com a análise em uma amostra de tamanho maior.\n",
        "\n",
        "\n",
        "## Visão Geral\n",
        "\n",
        "* Este dataset foi retirado do Kaggle e você pode acessá-lo clicando [aqui](https://www.kaggle.com/prathamtripathi/drug-classification). \n",
        "\n",
        "* Este dataset engloba dados demográficos, condições de saúde (análise de exames laboratorias) e o tratamento precrito.\n",
        "\n",
        "* O objetivo deste projeto é preizer qual droga deverá ser utilizada baseado nos atributos.\n",
        "\n",
        "* Foi possível retirar alguns insights analisando os atributos \n",
        "\n",
        "* O algoritmo de classificação foi necessário para garantir a acurácia do resultado.\n",
        "\n",
        "* O algoritmo de base utilizado com o Dummie classifier. \n",
        "\n",
        "* O algoritmo com melhor desempenho foi o de regressão logística. Pode ser utilizado como MVP.\n",
        "\n",
        "* Próximos passos é realizar o tuning do modelo e features.\n",
        "\n",
        "## Estrutura do Notebook (código em inglês)\n",
        "\n",
        "* Preparando o ambiente\n",
        "  - Instalações\n",
        "  - Importações\n",
        "  - Requisitos\n",
        "  - Importação do dataset e transformação dele em dataframe\n",
        "* Exploração do dataframe\n",
        "  - Característica do dataframe\n",
        "  - Transformações\n",
        "  - Anaálise exploratória\n",
        "  - Distribuição e balanceamento\n",
        "  - análise de outlier\n",
        "* Insights de negócio\n",
        "* Modelagem\n",
        "  - Engenharia de atributos\n",
        "  - Definição de funções \n",
        "  - Criando cenários\n",
        "  - Testando os cenários\n",
        "* Conclusão e próximo passos\n",
        "* Referências"
      ],
      "metadata": {
        "id": "w931RJqhlcRn"
      }
    },
    {
      "cell_type": "markdown",
      "source": [
        "## Preparando o ambiente"
      ],
      "metadata": {
        "id": "bkBjfCrOJavM"
      }
    },
    {
      "cell_type": "code",
      "execution_count": null,
      "metadata": {
        "id": "wNrclAzCkwfw"
      },
      "outputs": [],
      "source": [
        "# Import\n",
        "from google.colab import drive\n",
        "\n",
        "import seaborn as sns\n",
        "import pandas as pd\n",
        "import numpy as np\n",
        "import matplotlib.pyplot as plt\n",
        "import seaborn as sns\n",
        "import warnings\n",
        "\n",
        "from sklearn.preprocessing import LabelEncoder\n",
        "from sklearn.model_selection import train_test_split\n",
        "\n",
        "from sklearn.dummy import DummyClassifier\n",
        "from sklearn.linear_model import LogisticRegression\n",
        "from sklearn.tree import DecisionTreeClassifier\n",
        "from sklearn.ensemble import RandomForestClassifier\n",
        "from sklearn.neighbors import KNeighborsClassifier\n",
        "\n",
        "from sklearn.metrics import accuracy_score, recall_score, f1_score, precision_score"
      ]
    },
    {
      "cell_type": "code",
      "source": [
        "# Acess the dataset by google drive\n",
        "drive.mount('/content/drive')"
      ],
      "metadata": {
        "colab": {
          "base_uri": "https://localhost:8080/"
        },
        "id": "AyK6i9lLq_yd",
        "outputId": "e5372145-6b5e-4542-e398-5afb8d2208b8"
      },
      "execution_count": null,
      "outputs": [
        {
          "output_type": "stream",
          "name": "stdout",
          "text": [
            "Mounted at /content/drive\n"
          ]
        }
      ]
    },
    {
      "cell_type": "code",
      "source": [
        "# Create the dataframe\n",
        "## Put your path here\n",
        "df = pd.read_csv('drive/MyDrive/datasets/drug200.csv', sep = ',')"
      ],
      "metadata": {
        "id": "nZIw0mphnrPA"
      },
      "execution_count": null,
      "outputs": []
    },
    {
      "cell_type": "code",
      "source": [
        "# Check the output\n",
        "df.head()"
      ],
      "metadata": {
        "colab": {
          "base_uri": "https://localhost:8080/",
          "height": 204
        },
        "id": "PXqdVzzon_ZL",
        "outputId": "bdc8baf1-50a0-49cf-b2ee-5f13e8555a94"
      },
      "execution_count": null,
      "outputs": [
        {
          "output_type": "execute_result",
          "data": {
            "text/plain": [
              "   Age Sex      BP Cholesterol  Na_to_K   Drug\n",
              "0   23   F    HIGH        HIGH   25.355  DrugY\n",
              "1   47   M     LOW        HIGH   13.093  drugC\n",
              "2   47   M     LOW        HIGH   10.114  drugC\n",
              "3   28   F  NORMAL        HIGH    7.798  drugX\n",
              "4   61   F     LOW        HIGH   18.043  DrugY"
            ],
            "text/html": [
              "\n",
              "  <div id=\"df-e8964044-10b4-40fb-bd2d-eaa00565e358\">\n",
              "    <div class=\"colab-df-container\">\n",
              "      <div>\n",
              "<style scoped>\n",
              "    .dataframe tbody tr th:only-of-type {\n",
              "        vertical-align: middle;\n",
              "    }\n",
              "\n",
              "    .dataframe tbody tr th {\n",
              "        vertical-align: top;\n",
              "    }\n",
              "\n",
              "    .dataframe thead th {\n",
              "        text-align: right;\n",
              "    }\n",
              "</style>\n",
              "<table border=\"1\" class=\"dataframe\">\n",
              "  <thead>\n",
              "    <tr style=\"text-align: right;\">\n",
              "      <th></th>\n",
              "      <th>Age</th>\n",
              "      <th>Sex</th>\n",
              "      <th>BP</th>\n",
              "      <th>Cholesterol</th>\n",
              "      <th>Na_to_K</th>\n",
              "      <th>Drug</th>\n",
              "    </tr>\n",
              "  </thead>\n",
              "  <tbody>\n",
              "    <tr>\n",
              "      <th>0</th>\n",
              "      <td>23</td>\n",
              "      <td>F</td>\n",
              "      <td>HIGH</td>\n",
              "      <td>HIGH</td>\n",
              "      <td>25.355</td>\n",
              "      <td>DrugY</td>\n",
              "    </tr>\n",
              "    <tr>\n",
              "      <th>1</th>\n",
              "      <td>47</td>\n",
              "      <td>M</td>\n",
              "      <td>LOW</td>\n",
              "      <td>HIGH</td>\n",
              "      <td>13.093</td>\n",
              "      <td>drugC</td>\n",
              "    </tr>\n",
              "    <tr>\n",
              "      <th>2</th>\n",
              "      <td>47</td>\n",
              "      <td>M</td>\n",
              "      <td>LOW</td>\n",
              "      <td>HIGH</td>\n",
              "      <td>10.114</td>\n",
              "      <td>drugC</td>\n",
              "    </tr>\n",
              "    <tr>\n",
              "      <th>3</th>\n",
              "      <td>28</td>\n",
              "      <td>F</td>\n",
              "      <td>NORMAL</td>\n",
              "      <td>HIGH</td>\n",
              "      <td>7.798</td>\n",
              "      <td>drugX</td>\n",
              "    </tr>\n",
              "    <tr>\n",
              "      <th>4</th>\n",
              "      <td>61</td>\n",
              "      <td>F</td>\n",
              "      <td>LOW</td>\n",
              "      <td>HIGH</td>\n",
              "      <td>18.043</td>\n",
              "      <td>DrugY</td>\n",
              "    </tr>\n",
              "  </tbody>\n",
              "</table>\n",
              "</div>\n",
              "      <button class=\"colab-df-convert\" onclick=\"convertToInteractive('df-e8964044-10b4-40fb-bd2d-eaa00565e358')\"\n",
              "              title=\"Convert this dataframe to an interactive table.\"\n",
              "              style=\"display:none;\">\n",
              "        \n",
              "  <svg xmlns=\"http://www.w3.org/2000/svg\" height=\"24px\"viewBox=\"0 0 24 24\"\n",
              "       width=\"24px\">\n",
              "    <path d=\"M0 0h24v24H0V0z\" fill=\"none\"/>\n",
              "    <path d=\"M18.56 5.44l.94 2.06.94-2.06 2.06-.94-2.06-.94-.94-2.06-.94 2.06-2.06.94zm-11 1L8.5 8.5l.94-2.06 2.06-.94-2.06-.94L8.5 2.5l-.94 2.06-2.06.94zm10 10l.94 2.06.94-2.06 2.06-.94-2.06-.94-.94-2.06-.94 2.06-2.06.94z\"/><path d=\"M17.41 7.96l-1.37-1.37c-.4-.4-.92-.59-1.43-.59-.52 0-1.04.2-1.43.59L10.3 9.45l-7.72 7.72c-.78.78-.78 2.05 0 2.83L4 21.41c.39.39.9.59 1.41.59.51 0 1.02-.2 1.41-.59l7.78-7.78 2.81-2.81c.8-.78.8-2.07 0-2.86zM5.41 20L4 18.59l7.72-7.72 1.47 1.35L5.41 20z\"/>\n",
              "  </svg>\n",
              "      </button>\n",
              "      \n",
              "  <style>\n",
              "    .colab-df-container {\n",
              "      display:flex;\n",
              "      flex-wrap:wrap;\n",
              "      gap: 12px;\n",
              "    }\n",
              "\n",
              "    .colab-df-convert {\n",
              "      background-color: #E8F0FE;\n",
              "      border: none;\n",
              "      border-radius: 50%;\n",
              "      cursor: pointer;\n",
              "      display: none;\n",
              "      fill: #1967D2;\n",
              "      height: 32px;\n",
              "      padding: 0 0 0 0;\n",
              "      width: 32px;\n",
              "    }\n",
              "\n",
              "    .colab-df-convert:hover {\n",
              "      background-color: #E2EBFA;\n",
              "      box-shadow: 0px 1px 2px rgba(60, 64, 67, 0.3), 0px 1px 3px 1px rgba(60, 64, 67, 0.15);\n",
              "      fill: #174EA6;\n",
              "    }\n",
              "\n",
              "    [theme=dark] .colab-df-convert {\n",
              "      background-color: #3B4455;\n",
              "      fill: #D2E3FC;\n",
              "    }\n",
              "\n",
              "    [theme=dark] .colab-df-convert:hover {\n",
              "      background-color: #434B5C;\n",
              "      box-shadow: 0px 1px 3px 1px rgba(0, 0, 0, 0.15);\n",
              "      filter: drop-shadow(0px 1px 2px rgba(0, 0, 0, 0.3));\n",
              "      fill: #FFFFFF;\n",
              "    }\n",
              "  </style>\n",
              "\n",
              "      <script>\n",
              "        const buttonEl =\n",
              "          document.querySelector('#df-e8964044-10b4-40fb-bd2d-eaa00565e358 button.colab-df-convert');\n",
              "        buttonEl.style.display =\n",
              "          google.colab.kernel.accessAllowed ? 'block' : 'none';\n",
              "\n",
              "        async function convertToInteractive(key) {\n",
              "          const element = document.querySelector('#df-e8964044-10b4-40fb-bd2d-eaa00565e358');\n",
              "          const dataTable =\n",
              "            await google.colab.kernel.invokeFunction('convertToInteractive',\n",
              "                                                     [key], {});\n",
              "          if (!dataTable) return;\n",
              "\n",
              "          const docLinkHtml = 'Like what you see? Visit the ' +\n",
              "            '<a target=\"_blank\" href=https://colab.research.google.com/notebooks/data_table.ipynb>data table notebook</a>'\n",
              "            + ' to learn more about interactive tables.';\n",
              "          element.innerHTML = '';\n",
              "          dataTable['output_type'] = 'display_data';\n",
              "          await google.colab.output.renderOutput(dataTable, element);\n",
              "          const docLink = document.createElement('div');\n",
              "          docLink.innerHTML = docLinkHtml;\n",
              "          element.appendChild(docLink);\n",
              "        }\n",
              "      </script>\n",
              "    </div>\n",
              "  </div>\n",
              "  "
            ]
          },
          "metadata": {},
          "execution_count": 4
        }
      ]
    },
    {
      "cell_type": "markdown",
      "source": [
        "## Explorando o dataframe"
      ],
      "metadata": {
        "id": "p6hvIhFHHb1H"
      }
    },
    {
      "cell_type": "code",
      "source": [
        "# DF rows and columns\n",
        "df.shape"
      ],
      "metadata": {
        "colab": {
          "base_uri": "https://localhost:8080/"
        },
        "id": "bIQRxXPLCw5D",
        "outputId": "0a0f1174-160a-43bb-e6b5-3f6d36dfd10b"
      },
      "execution_count": null,
      "outputs": [
        {
          "output_type": "execute_result",
          "data": {
            "text/plain": [
              "(200, 6)"
            ]
          },
          "metadata": {},
          "execution_count": 5
        }
      ]
    },
    {
      "cell_type": "markdown",
      "source": [
        "🔶 Possui 200 linhas e 6 colunas"
      ],
      "metadata": {
        "id": "X57brnLsJ0In"
      }
    },
    {
      "cell_type": "code",
      "source": [
        "# Types & null\n",
        "df.info()"
      ],
      "metadata": {
        "colab": {
          "base_uri": "https://localhost:8080/"
        },
        "id": "SoiUgFDZNkp1",
        "outputId": "8e74b8b9-6e07-4256-9d1a-2d13bd8a70be"
      },
      "execution_count": null,
      "outputs": [
        {
          "output_type": "stream",
          "name": "stdout",
          "text": [
            "<class 'pandas.core.frame.DataFrame'>\n",
            "RangeIndex: 200 entries, 0 to 199\n",
            "Data columns (total 6 columns):\n",
            " #   Column       Non-Null Count  Dtype  \n",
            "---  ------       --------------  -----  \n",
            " 0   Age          200 non-null    int64  \n",
            " 1   Sex          200 non-null    object \n",
            " 2   BP           200 non-null    object \n",
            " 3   Cholesterol  200 non-null    object \n",
            " 4   Na_to_K      200 non-null    float64\n",
            " 5   Drug         200 non-null    object \n",
            "dtypes: float64(1), int64(1), object(4)\n",
            "memory usage: 9.5+ KB\n"
          ]
        }
      ]
    },
    {
      "cell_type": "code",
      "source": [
        "# Duplicated data\n",
        "df.duplicated().sum()"
      ],
      "metadata": {
        "colab": {
          "base_uri": "https://localhost:8080/"
        },
        "id": "9ooLlCLvNqDc",
        "outputId": "8522eb1f-3856-4c81-f13f-ea47813344b0"
      },
      "execution_count": null,
      "outputs": [
        {
          "output_type": "execute_result",
          "data": {
            "text/plain": [
              "0"
            ]
          },
          "metadata": {},
          "execution_count": 7
        }
      ]
    },
    {
      "cell_type": "markdown",
      "source": [
        "🔶 Não foram identificados dados inconsistentes"
      ],
      "metadata": {
        "id": "Fn-Zkf5ldNJX"
      }
    },
    {
      "cell_type": "code",
      "source": [
        "# Infos by columns \n",
        "df['BP'].unique()"
      ],
      "metadata": {
        "colab": {
          "base_uri": "https://localhost:8080/"
        },
        "id": "nyU1_WHpKLzm",
        "outputId": "8a04e65f-fc52-49f7-e03c-d16f1fed3256"
      },
      "execution_count": null,
      "outputs": [
        {
          "output_type": "execute_result",
          "data": {
            "text/plain": [
              "array(['HIGH', 'LOW', 'NORMAL'], dtype=object)"
            ]
          },
          "metadata": {},
          "execution_count": 8
        }
      ]
    },
    {
      "cell_type": "code",
      "source": [
        "df['Cholesterol'].unique()"
      ],
      "metadata": {
        "colab": {
          "base_uri": "https://localhost:8080/"
        },
        "id": "5auyyL7-EH1x",
        "outputId": "15c9cc4c-3c30-4b24-d5d3-a2dae01f6c9f"
      },
      "execution_count": null,
      "outputs": [
        {
          "output_type": "execute_result",
          "data": {
            "text/plain": [
              "array(['HIGH', 'NORMAL'], dtype=object)"
            ]
          },
          "metadata": {},
          "execution_count": 9
        }
      ]
    },
    {
      "cell_type": "code",
      "source": [
        "df['Drug'].unique()"
      ],
      "metadata": {
        "colab": {
          "base_uri": "https://localhost:8080/"
        },
        "id": "RfelSwPgKSeb",
        "outputId": "9559c445-9168-4c02-e122-e4cf14140683"
      },
      "execution_count": null,
      "outputs": [
        {
          "output_type": "execute_result",
          "data": {
            "text/plain": [
              "array(['DrugY', 'drugC', 'drugX', 'drugA', 'drugB'], dtype=object)"
            ]
          },
          "metadata": {},
          "execution_count": 10
        }
      ]
    },
    {
      "cell_type": "markdown",
      "source": [
        "  \n",
        "🔶 As variáveis categóricas são:\n",
        "   - Sex | sexo: F(feminino), M(masculino)\n",
        "   - Blood Pressure Levels (BP) | pressão arterial: normal, low/baixa, high/alta\n",
        "   - Cholesterol Levels | colesterol: normal, high/alto | exame de sangue\n",
        "   - Drug | droga: a, b, c, x, y"
      ],
      "metadata": {
        "id": "AdrOiYVWgNYt"
      }
    },
    {
      "cell_type": "code",
      "source": [
        "# Basic statistics\n",
        "df.describe()"
      ],
      "metadata": {
        "colab": {
          "base_uri": "https://localhost:8080/",
          "height": 297
        },
        "id": "xFZiWS3fD06r",
        "outputId": "3356248e-a324-4511-a019-e00bc689da3d"
      },
      "execution_count": null,
      "outputs": [
        {
          "output_type": "execute_result",
          "data": {
            "text/plain": [
              "              Age     Na_to_K\n",
              "count  200.000000  200.000000\n",
              "mean    44.315000   16.084485\n",
              "std     16.544315    7.223956\n",
              "min     15.000000    6.269000\n",
              "25%     31.000000   10.445500\n",
              "50%     45.000000   13.936500\n",
              "75%     58.000000   19.380000\n",
              "max     74.000000   38.247000"
            ],
            "text/html": [
              "\n",
              "  <div id=\"df-9121d5f9-f718-4a99-bace-f4e99f682d83\">\n",
              "    <div class=\"colab-df-container\">\n",
              "      <div>\n",
              "<style scoped>\n",
              "    .dataframe tbody tr th:only-of-type {\n",
              "        vertical-align: middle;\n",
              "    }\n",
              "\n",
              "    .dataframe tbody tr th {\n",
              "        vertical-align: top;\n",
              "    }\n",
              "\n",
              "    .dataframe thead th {\n",
              "        text-align: right;\n",
              "    }\n",
              "</style>\n",
              "<table border=\"1\" class=\"dataframe\">\n",
              "  <thead>\n",
              "    <tr style=\"text-align: right;\">\n",
              "      <th></th>\n",
              "      <th>Age</th>\n",
              "      <th>Na_to_K</th>\n",
              "    </tr>\n",
              "  </thead>\n",
              "  <tbody>\n",
              "    <tr>\n",
              "      <th>count</th>\n",
              "      <td>200.000000</td>\n",
              "      <td>200.000000</td>\n",
              "    </tr>\n",
              "    <tr>\n",
              "      <th>mean</th>\n",
              "      <td>44.315000</td>\n",
              "      <td>16.084485</td>\n",
              "    </tr>\n",
              "    <tr>\n",
              "      <th>std</th>\n",
              "      <td>16.544315</td>\n",
              "      <td>7.223956</td>\n",
              "    </tr>\n",
              "    <tr>\n",
              "      <th>min</th>\n",
              "      <td>15.000000</td>\n",
              "      <td>6.269000</td>\n",
              "    </tr>\n",
              "    <tr>\n",
              "      <th>25%</th>\n",
              "      <td>31.000000</td>\n",
              "      <td>10.445500</td>\n",
              "    </tr>\n",
              "    <tr>\n",
              "      <th>50%</th>\n",
              "      <td>45.000000</td>\n",
              "      <td>13.936500</td>\n",
              "    </tr>\n",
              "    <tr>\n",
              "      <th>75%</th>\n",
              "      <td>58.000000</td>\n",
              "      <td>19.380000</td>\n",
              "    </tr>\n",
              "    <tr>\n",
              "      <th>max</th>\n",
              "      <td>74.000000</td>\n",
              "      <td>38.247000</td>\n",
              "    </tr>\n",
              "  </tbody>\n",
              "</table>\n",
              "</div>\n",
              "      <button class=\"colab-df-convert\" onclick=\"convertToInteractive('df-9121d5f9-f718-4a99-bace-f4e99f682d83')\"\n",
              "              title=\"Convert this dataframe to an interactive table.\"\n",
              "              style=\"display:none;\">\n",
              "        \n",
              "  <svg xmlns=\"http://www.w3.org/2000/svg\" height=\"24px\"viewBox=\"0 0 24 24\"\n",
              "       width=\"24px\">\n",
              "    <path d=\"M0 0h24v24H0V0z\" fill=\"none\"/>\n",
              "    <path d=\"M18.56 5.44l.94 2.06.94-2.06 2.06-.94-2.06-.94-.94-2.06-.94 2.06-2.06.94zm-11 1L8.5 8.5l.94-2.06 2.06-.94-2.06-.94L8.5 2.5l-.94 2.06-2.06.94zm10 10l.94 2.06.94-2.06 2.06-.94-2.06-.94-.94-2.06-.94 2.06-2.06.94z\"/><path d=\"M17.41 7.96l-1.37-1.37c-.4-.4-.92-.59-1.43-.59-.52 0-1.04.2-1.43.59L10.3 9.45l-7.72 7.72c-.78.78-.78 2.05 0 2.83L4 21.41c.39.39.9.59 1.41.59.51 0 1.02-.2 1.41-.59l7.78-7.78 2.81-2.81c.8-.78.8-2.07 0-2.86zM5.41 20L4 18.59l7.72-7.72 1.47 1.35L5.41 20z\"/>\n",
              "  </svg>\n",
              "      </button>\n",
              "      \n",
              "  <style>\n",
              "    .colab-df-container {\n",
              "      display:flex;\n",
              "      flex-wrap:wrap;\n",
              "      gap: 12px;\n",
              "    }\n",
              "\n",
              "    .colab-df-convert {\n",
              "      background-color: #E8F0FE;\n",
              "      border: none;\n",
              "      border-radius: 50%;\n",
              "      cursor: pointer;\n",
              "      display: none;\n",
              "      fill: #1967D2;\n",
              "      height: 32px;\n",
              "      padding: 0 0 0 0;\n",
              "      width: 32px;\n",
              "    }\n",
              "\n",
              "    .colab-df-convert:hover {\n",
              "      background-color: #E2EBFA;\n",
              "      box-shadow: 0px 1px 2px rgba(60, 64, 67, 0.3), 0px 1px 3px 1px rgba(60, 64, 67, 0.15);\n",
              "      fill: #174EA6;\n",
              "    }\n",
              "\n",
              "    [theme=dark] .colab-df-convert {\n",
              "      background-color: #3B4455;\n",
              "      fill: #D2E3FC;\n",
              "    }\n",
              "\n",
              "    [theme=dark] .colab-df-convert:hover {\n",
              "      background-color: #434B5C;\n",
              "      box-shadow: 0px 1px 3px 1px rgba(0, 0, 0, 0.15);\n",
              "      filter: drop-shadow(0px 1px 2px rgba(0, 0, 0, 0.3));\n",
              "      fill: #FFFFFF;\n",
              "    }\n",
              "  </style>\n",
              "\n",
              "      <script>\n",
              "        const buttonEl =\n",
              "          document.querySelector('#df-9121d5f9-f718-4a99-bace-f4e99f682d83 button.colab-df-convert');\n",
              "        buttonEl.style.display =\n",
              "          google.colab.kernel.accessAllowed ? 'block' : 'none';\n",
              "\n",
              "        async function convertToInteractive(key) {\n",
              "          const element = document.querySelector('#df-9121d5f9-f718-4a99-bace-f4e99f682d83');\n",
              "          const dataTable =\n",
              "            await google.colab.kernel.invokeFunction('convertToInteractive',\n",
              "                                                     [key], {});\n",
              "          if (!dataTable) return;\n",
              "\n",
              "          const docLinkHtml = 'Like what you see? Visit the ' +\n",
              "            '<a target=\"_blank\" href=https://colab.research.google.com/notebooks/data_table.ipynb>data table notebook</a>'\n",
              "            + ' to learn more about interactive tables.';\n",
              "          element.innerHTML = '';\n",
              "          dataTable['output_type'] = 'display_data';\n",
              "          await google.colab.output.renderOutput(dataTable, element);\n",
              "          const docLink = document.createElement('div');\n",
              "          docLink.innerHTML = docLinkHtml;\n",
              "          element.appendChild(docLink);\n",
              "        }\n",
              "      </script>\n",
              "    </div>\n",
              "  </div>\n",
              "  "
            ]
          },
          "metadata": {},
          "execution_count": 11
        }
      ]
    },
    {
      "cell_type": "markdown",
      "source": [
        "🔶 As variáveis numéricas são: \n",
        "   - Age | idade: 15 to 74 anos\n",
        "   - Na to Potassium Ratio | razão sódio e potássio: 6.269 - 38.247 mEq/24 horas | Exame de urina | Altas razão significa consumo elevado de Sodio e menor de Potássio.\n"
      ],
      "metadata": {
        "id": "tKVlCG31dAD5"
      }
    },
    {
      "cell_type": "markdown",
      "source": [
        "### Transformações"
      ],
      "metadata": {
        "id": "dA5OfjWTLvqr"
      }
    },
    {
      "cell_type": "code",
      "source": [
        "# Columns name\n",
        "df.columns = df.columns.str.lower()"
      ],
      "metadata": {
        "id": "uZfFa5XjL3DD"
      },
      "execution_count": null,
      "outputs": []
    },
    {
      "cell_type": "code",
      "source": [
        "# Columns data\n",
        "col = ['sex', 'bp', 'cholesterol', 'drug']"
      ],
      "metadata": {
        "id": "qzPfNx2TMga3"
      },
      "execution_count": null,
      "outputs": []
    },
    {
      "cell_type": "code",
      "source": [
        "# Lowercase transformation\n",
        "for n in col:\n",
        "  df[n] = df[n].apply(lambda x: x.lower())"
      ],
      "metadata": {
        "id": "kAPU634RLxpR"
      },
      "execution_count": null,
      "outputs": []
    },
    {
      "cell_type": "markdown",
      "source": [
        "🔶  Texto transformado para letra minúscula\n"
      ],
      "metadata": {
        "id": "P-KMr_DCdiWN"
      }
    },
    {
      "cell_type": "code",
      "source": [
        "# Drug essencial information\n",
        "df['drug'] = [n[-1] for n in df['drug']]"
      ],
      "metadata": {
        "id": "enG4nvBXTWsi"
      },
      "execution_count": null,
      "outputs": []
    },
    {
      "cell_type": "code",
      "source": [
        "df.head()"
      ],
      "metadata": {
        "colab": {
          "base_uri": "https://localhost:8080/",
          "height": 204
        },
        "id": "iWm9kwc_T9Im",
        "outputId": "ea5908ee-9223-41ee-93bc-a02d625e127b"
      },
      "execution_count": null,
      "outputs": [
        {
          "output_type": "execute_result",
          "data": {
            "text/plain": [
              "   age sex      bp cholesterol  na_to_k drug\n",
              "0   23   f    high        high   25.355    y\n",
              "1   47   m     low        high   13.093    c\n",
              "2   47   m     low        high   10.114    c\n",
              "3   28   f  normal        high    7.798    x\n",
              "4   61   f     low        high   18.043    y"
            ],
            "text/html": [
              "\n",
              "  <div id=\"df-2229873c-f7e4-47c7-a983-9cbb24c889d0\">\n",
              "    <div class=\"colab-df-container\">\n",
              "      <div>\n",
              "<style scoped>\n",
              "    .dataframe tbody tr th:only-of-type {\n",
              "        vertical-align: middle;\n",
              "    }\n",
              "\n",
              "    .dataframe tbody tr th {\n",
              "        vertical-align: top;\n",
              "    }\n",
              "\n",
              "    .dataframe thead th {\n",
              "        text-align: right;\n",
              "    }\n",
              "</style>\n",
              "<table border=\"1\" class=\"dataframe\">\n",
              "  <thead>\n",
              "    <tr style=\"text-align: right;\">\n",
              "      <th></th>\n",
              "      <th>age</th>\n",
              "      <th>sex</th>\n",
              "      <th>bp</th>\n",
              "      <th>cholesterol</th>\n",
              "      <th>na_to_k</th>\n",
              "      <th>drug</th>\n",
              "    </tr>\n",
              "  </thead>\n",
              "  <tbody>\n",
              "    <tr>\n",
              "      <th>0</th>\n",
              "      <td>23</td>\n",
              "      <td>f</td>\n",
              "      <td>high</td>\n",
              "      <td>high</td>\n",
              "      <td>25.355</td>\n",
              "      <td>y</td>\n",
              "    </tr>\n",
              "    <tr>\n",
              "      <th>1</th>\n",
              "      <td>47</td>\n",
              "      <td>m</td>\n",
              "      <td>low</td>\n",
              "      <td>high</td>\n",
              "      <td>13.093</td>\n",
              "      <td>c</td>\n",
              "    </tr>\n",
              "    <tr>\n",
              "      <th>2</th>\n",
              "      <td>47</td>\n",
              "      <td>m</td>\n",
              "      <td>low</td>\n",
              "      <td>high</td>\n",
              "      <td>10.114</td>\n",
              "      <td>c</td>\n",
              "    </tr>\n",
              "    <tr>\n",
              "      <th>3</th>\n",
              "      <td>28</td>\n",
              "      <td>f</td>\n",
              "      <td>normal</td>\n",
              "      <td>high</td>\n",
              "      <td>7.798</td>\n",
              "      <td>x</td>\n",
              "    </tr>\n",
              "    <tr>\n",
              "      <th>4</th>\n",
              "      <td>61</td>\n",
              "      <td>f</td>\n",
              "      <td>low</td>\n",
              "      <td>high</td>\n",
              "      <td>18.043</td>\n",
              "      <td>y</td>\n",
              "    </tr>\n",
              "  </tbody>\n",
              "</table>\n",
              "</div>\n",
              "      <button class=\"colab-df-convert\" onclick=\"convertToInteractive('df-2229873c-f7e4-47c7-a983-9cbb24c889d0')\"\n",
              "              title=\"Convert this dataframe to an interactive table.\"\n",
              "              style=\"display:none;\">\n",
              "        \n",
              "  <svg xmlns=\"http://www.w3.org/2000/svg\" height=\"24px\"viewBox=\"0 0 24 24\"\n",
              "       width=\"24px\">\n",
              "    <path d=\"M0 0h24v24H0V0z\" fill=\"none\"/>\n",
              "    <path d=\"M18.56 5.44l.94 2.06.94-2.06 2.06-.94-2.06-.94-.94-2.06-.94 2.06-2.06.94zm-11 1L8.5 8.5l.94-2.06 2.06-.94-2.06-.94L8.5 2.5l-.94 2.06-2.06.94zm10 10l.94 2.06.94-2.06 2.06-.94-2.06-.94-.94-2.06-.94 2.06-2.06.94z\"/><path d=\"M17.41 7.96l-1.37-1.37c-.4-.4-.92-.59-1.43-.59-.52 0-1.04.2-1.43.59L10.3 9.45l-7.72 7.72c-.78.78-.78 2.05 0 2.83L4 21.41c.39.39.9.59 1.41.59.51 0 1.02-.2 1.41-.59l7.78-7.78 2.81-2.81c.8-.78.8-2.07 0-2.86zM5.41 20L4 18.59l7.72-7.72 1.47 1.35L5.41 20z\"/>\n",
              "  </svg>\n",
              "      </button>\n",
              "      \n",
              "  <style>\n",
              "    .colab-df-container {\n",
              "      display:flex;\n",
              "      flex-wrap:wrap;\n",
              "      gap: 12px;\n",
              "    }\n",
              "\n",
              "    .colab-df-convert {\n",
              "      background-color: #E8F0FE;\n",
              "      border: none;\n",
              "      border-radius: 50%;\n",
              "      cursor: pointer;\n",
              "      display: none;\n",
              "      fill: #1967D2;\n",
              "      height: 32px;\n",
              "      padding: 0 0 0 0;\n",
              "      width: 32px;\n",
              "    }\n",
              "\n",
              "    .colab-df-convert:hover {\n",
              "      background-color: #E2EBFA;\n",
              "      box-shadow: 0px 1px 2px rgba(60, 64, 67, 0.3), 0px 1px 3px 1px rgba(60, 64, 67, 0.15);\n",
              "      fill: #174EA6;\n",
              "    }\n",
              "\n",
              "    [theme=dark] .colab-df-convert {\n",
              "      background-color: #3B4455;\n",
              "      fill: #D2E3FC;\n",
              "    }\n",
              "\n",
              "    [theme=dark] .colab-df-convert:hover {\n",
              "      background-color: #434B5C;\n",
              "      box-shadow: 0px 1px 3px 1px rgba(0, 0, 0, 0.15);\n",
              "      filter: drop-shadow(0px 1px 2px rgba(0, 0, 0, 0.3));\n",
              "      fill: #FFFFFF;\n",
              "    }\n",
              "  </style>\n",
              "\n",
              "      <script>\n",
              "        const buttonEl =\n",
              "          document.querySelector('#df-2229873c-f7e4-47c7-a983-9cbb24c889d0 button.colab-df-convert');\n",
              "        buttonEl.style.display =\n",
              "          google.colab.kernel.accessAllowed ? 'block' : 'none';\n",
              "\n",
              "        async function convertToInteractive(key) {\n",
              "          const element = document.querySelector('#df-2229873c-f7e4-47c7-a983-9cbb24c889d0');\n",
              "          const dataTable =\n",
              "            await google.colab.kernel.invokeFunction('convertToInteractive',\n",
              "                                                     [key], {});\n",
              "          if (!dataTable) return;\n",
              "\n",
              "          const docLinkHtml = 'Like what you see? Visit the ' +\n",
              "            '<a target=\"_blank\" href=https://colab.research.google.com/notebooks/data_table.ipynb>data table notebook</a>'\n",
              "            + ' to learn more about interactive tables.';\n",
              "          element.innerHTML = '';\n",
              "          dataTable['output_type'] = 'display_data';\n",
              "          await google.colab.output.renderOutput(dataTable, element);\n",
              "          const docLink = document.createElement('div');\n",
              "          docLink.innerHTML = docLinkHtml;\n",
              "          element.appendChild(docLink);\n",
              "        }\n",
              "      </script>\n",
              "    </div>\n",
              "  </div>\n",
              "  "
            ]
          },
          "metadata": {},
          "execution_count": 16
        }
      ]
    },
    {
      "cell_type": "markdown",
      "source": [
        "🔶  Deletada a palavra 'drug' dos valores da coluna drug"
      ],
      "metadata": {
        "id": "qM-KEhqBdm1c"
      }
    },
    {
      "cell_type": "markdown",
      "source": [
        "## Análise Exploratória"
      ],
      "metadata": {
        "id": "hn_W5KhRKLaj"
      }
    },
    {
      "cell_type": "markdown",
      "source": [
        "### Distribuição & Outlier\n"
      ],
      "metadata": {
        "id": "MYa5g5wct0HT"
      }
    },
    {
      "cell_type": "code",
      "source": [
        "# Defining the variables\n",
        "continuous_var = ['age', 'na_to_k']\n",
        "categorical_var = ['sex', 'bp', 'cholesterol', 'drug']\n",
        "\n",
        "# Ignoring warning text\n",
        "warnings.filterwarnings(\"ignore\")"
      ],
      "metadata": {
        "id": "3GAhGfaImvns"
      },
      "execution_count": null,
      "outputs": []
    },
    {
      "cell_type": "markdown",
      "source": [
        "##### Variáveis contínuas"
      ],
      "metadata": {
        "id": "yWaUsG2np7v-"
      }
    },
    {
      "cell_type": "code",
      "source": [
        "# General distribution | histogram for which variable\n",
        "n_rows=1\n",
        "n_cols=2\n",
        "\n",
        "## Creating subplots\n",
        "fig, axes = plt.subplots(nrows=n_rows, ncols=n_cols)\n",
        "fig.set_size_inches(10, 5)\n",
        "fig.suptitle('Continuous Variables | Histogram Distribution', fontsize=16)\n",
        "\n",
        "## Creating histograms\n",
        "for i, column in enumerate(continuous_var):\n",
        "  sns.histplot(df[column], ax=axes[i%n_cols], bins=10,  stat=\"percent\", kde=True)\n",
        "\n",
        "plt.show()"
      ],
      "metadata": {
        "id": "2rCHHjccLKhc",
        "colab": {
          "base_uri": "https://localhost:8080/",
          "height": 371
        },
        "outputId": "b9eb9940-da04-45ad-aa6c-d1d967ff76f5"
      },
      "execution_count": null,
      "outputs": [
        {
          "output_type": "display_data",
          "data": {
            "text/plain": [
              "<Figure size 720x360 with 2 Axes>"
            ],
            "image/png": "[encoded data removed]"
          },
          "metadata": {
            "needs_background": "light"
          }
        }
      ]
    },
    {
      "cell_type": "markdown",
      "source": [
        "🔶 Age | idade - distribuição mais próxima de normal\n",
        "\n",
        "🔶 Na to K - assimetria à direita com presença de outliers"
      ],
      "metadata": {
        "id": "0GcPNZV6gjbk"
      }
    },
    {
      "cell_type": "code",
      "source": [
        "# General distribution | boxplot for which variable\n",
        "n_rows=1\n",
        "n_cols=2\n",
        "\n",
        "## Creating subplots\n",
        "warnings.filterwarnings(\"ignore\")\n",
        "fig, axes = plt.subplots(nrows=n_rows, ncols=n_cols)\n",
        "fig.set_size_inches(10, 5)\n",
        "fig.suptitle('Continuous Variables | Bloxplot Distribution', fontsize=16)\n",
        "\n",
        "## Creating boxplot\n",
        "for i, column in enumerate(continuous_var):\n",
        "  sns.boxplot(df[column], ax=axes[i%n_cols])\n",
        "\n",
        "plt.show()"
      ],
      "metadata": {
        "colab": {
          "base_uri": "https://localhost:8080/",
          "height": 371
        },
        "id": "jDko4GE-mZPY",
        "outputId": "40dac1ae-8483-4bf2-814b-21c46b1d5d26"
      },
      "execution_count": null,
      "outputs": [
        {
          "output_type": "display_data",
          "data": {
            "text/plain": [
              "<Figure size 720x360 with 2 Axes>"
            ],
            "image/png": "[encoded data removed]"
          },
          "metadata": {
            "needs_background": "light"
          }
        }
      ]
    },
    {
      "cell_type": "markdown",
      "source": [
        "🔶 Na to K com outliers e mediana aproximada de 14 mEq/24 horas\n",
        "\n",
        "🔶 Age | idade sem outliers e mediana aproximada de 45 anos"
      ],
      "metadata": {
        "id": "xjwEvZY0gkn_"
      }
    },
    {
      "cell_type": "code",
      "source": [
        "# analysing outliers >> high na_to_k == drug Y(?)\n",
        "def outliers(df,col):\n",
        "  Q1 = df[col].quantile(0.25)\n",
        "  Q3 = df[col].quantile(0.75)\n",
        "  IQR = Q3 - Q1\n",
        "  return df[((df[col] < (Q1 - 1.5 * IQR)) | (df[col] > (Q3 + 1.5 * IQR)))]"
      ],
      "metadata": {
        "id": "TOLq-M8Eqw-5"
      },
      "execution_count": null,
      "outputs": []
    },
    {
      "cell_type": "code",
      "source": [
        "outliers(df, 'na_to_k')"
      ],
      "metadata": {
        "colab": {
          "base_uri": "https://localhost:8080/",
          "height": 297
        },
        "id": "MeOwjjJdsc01",
        "outputId": "093b5e59-6ac4-4abe-abd1-53935bdf0e53"
      },
      "execution_count": null,
      "outputs": [
        {
          "output_type": "execute_result",
          "data": {
            "text/plain": [
              "     age sex    bp cholesterol  na_to_k drug\n",
              "24    33   f   low        high   33.486    y\n",
              "96    58   f   low        high   38.247    y\n",
              "98    20   m  high      normal   35.639    y\n",
              "128   47   m   low      normal   33.542    y\n",
              "131   52   m   low      normal   32.922    y\n",
              "184   18   f  high        high   37.188    y\n",
              "188   65   m  high      normal   34.997    y\n",
              "194   46   f  high        high   34.686    y"
            ],
            "text/html": [
              "\n",
              "  <div id=\"df-b9fe7170-f721-4345-ad51-8e381f691277\">\n",
              "    <div class=\"colab-df-container\">\n",
              "      <div>\n",
              "<style scoped>\n",
              "    .dataframe tbody tr th:only-of-type {\n",
              "        vertical-align: middle;\n",
              "    }\n",
              "\n",
              "    .dataframe tbody tr th {\n",
              "        vertical-align: top;\n",
              "    }\n",
              "\n",
              "    .dataframe thead th {\n",
              "        text-align: right;\n",
              "    }\n",
              "</style>\n",
              "<table border=\"1\" class=\"dataframe\">\n",
              "  <thead>\n",
              "    <tr style=\"text-align: right;\">\n",
              "      <th></th>\n",
              "      <th>age</th>\n",
              "      <th>sex</th>\n",
              "      <th>bp</th>\n",
              "      <th>cholesterol</th>\n",
              "      <th>na_to_k</th>\n",
              "      <th>drug</th>\n",
              "    </tr>\n",
              "  </thead>\n",
              "  <tbody>\n",
              "    <tr>\n",
              "      <th>24</th>\n",
              "      <td>33</td>\n",
              "      <td>f</td>\n",
              "      <td>low</td>\n",
              "      <td>high</td>\n",
              "      <td>33.486</td>\n",
              "      <td>y</td>\n",
              "    </tr>\n",
              "    <tr>\n",
              "      <th>96</th>\n",
              "      <td>58</td>\n",
              "      <td>f</td>\n",
              "      <td>low</td>\n",
              "      <td>high</td>\n",
              "      <td>38.247</td>\n",
              "      <td>y</td>\n",
              "    </tr>\n",
              "    <tr>\n",
              "      <th>98</th>\n",
              "      <td>20</td>\n",
              "      <td>m</td>\n",
              "      <td>high</td>\n",
              "      <td>normal</td>\n",
              "      <td>35.639</td>\n",
              "      <td>y</td>\n",
              "    </tr>\n",
              "    <tr>\n",
              "      <th>128</th>\n",
              "      <td>47</td>\n",
              "      <td>m</td>\n",
              "      <td>low</td>\n",
              "      <td>normal</td>\n",
              "      <td>33.542</td>\n",
              "      <td>y</td>\n",
              "    </tr>\n",
              "    <tr>\n",
              "      <th>131</th>\n",
              "      <td>52</td>\n",
              "      <td>m</td>\n",
              "      <td>low</td>\n",
              "      <td>normal</td>\n",
              "      <td>32.922</td>\n",
              "      <td>y</td>\n",
              "    </tr>\n",
              "    <tr>\n",
              "      <th>184</th>\n",
              "      <td>18</td>\n",
              "      <td>f</td>\n",
              "      <td>high</td>\n",
              "      <td>high</td>\n",
              "      <td>37.188</td>\n",
              "      <td>y</td>\n",
              "    </tr>\n",
              "    <tr>\n",
              "      <th>188</th>\n",
              "      <td>65</td>\n",
              "      <td>m</td>\n",
              "      <td>high</td>\n",
              "      <td>normal</td>\n",
              "      <td>34.997</td>\n",
              "      <td>y</td>\n",
              "    </tr>\n",
              "    <tr>\n",
              "      <th>194</th>\n",
              "      <td>46</td>\n",
              "      <td>f</td>\n",
              "      <td>high</td>\n",
              "      <td>high</td>\n",
              "      <td>34.686</td>\n",
              "      <td>y</td>\n",
              "    </tr>\n",
              "  </tbody>\n",
              "</table>\n",
              "</div>\n",
              "      <button class=\"colab-df-convert\" onclick=\"convertToInteractive('df-b9fe7170-f721-4345-ad51-8e381f691277')\"\n",
              "              title=\"Convert this dataframe to an interactive table.\"\n",
              "              style=\"display:none;\">\n",
              "        \n",
              "  <svg xmlns=\"http://www.w3.org/2000/svg\" height=\"24px\"viewBox=\"0 0 24 24\"\n",
              "       width=\"24px\">\n",
              "    <path d=\"M0 0h24v24H0V0z\" fill=\"none\"/>\n",
              "    <path d=\"M18.56 5.44l.94 2.06.94-2.06 2.06-.94-2.06-.94-.94-2.06-.94 2.06-2.06.94zm-11 1L8.5 8.5l.94-2.06 2.06-.94-2.06-.94L8.5 2.5l-.94 2.06-2.06.94zm10 10l.94 2.06.94-2.06 2.06-.94-2.06-.94-.94-2.06-.94 2.06-2.06.94z\"/><path d=\"M17.41 7.96l-1.37-1.37c-.4-.4-.92-.59-1.43-.59-.52 0-1.04.2-1.43.59L10.3 9.45l-7.72 7.72c-.78.78-.78 2.05 0 2.83L4 21.41c.39.39.9.59 1.41.59.51 0 1.02-.2 1.41-.59l7.78-7.78 2.81-2.81c.8-.78.8-2.07 0-2.86zM5.41 20L4 18.59l7.72-7.72 1.47 1.35L5.41 20z\"/>\n",
              "  </svg>\n",
              "      </button>\n",
              "      \n",
              "  <style>\n",
              "    .colab-df-container {\n",
              "      display:flex;\n",
              "      flex-wrap:wrap;\n",
              "      gap: 12px;\n",
              "    }\n",
              "\n",
              "    .colab-df-convert {\n",
              "      background-color: #E8F0FE;\n",
              "      border: none;\n",
              "      border-radius: 50%;\n",
              "      cursor: pointer;\n",
              "      display: none;\n",
              "      fill: #1967D2;\n",
              "      height: 32px;\n",
              "      padding: 0 0 0 0;\n",
              "      width: 32px;\n",
              "    }\n",
              "\n",
              "    .colab-df-convert:hover {\n",
              "      background-color: #E2EBFA;\n",
              "      box-shadow: 0px 1px 2px rgba(60, 64, 67, 0.3), 0px 1px 3px 1px rgba(60, 64, 67, 0.15);\n",
              "      fill: #174EA6;\n",
              "    }\n",
              "\n",
              "    [theme=dark] .colab-df-convert {\n",
              "      background-color: #3B4455;\n",
              "      fill: #D2E3FC;\n",
              "    }\n",
              "\n",
              "    [theme=dark] .colab-df-convert:hover {\n",
              "      background-color: #434B5C;\n",
              "      box-shadow: 0px 1px 3px 1px rgba(0, 0, 0, 0.15);\n",
              "      filter: drop-shadow(0px 1px 2px rgba(0, 0, 0, 0.3));\n",
              "      fill: #FFFFFF;\n",
              "    }\n",
              "  </style>\n",
              "\n",
              "      <script>\n",
              "        const buttonEl =\n",
              "          document.querySelector('#df-b9fe7170-f721-4345-ad51-8e381f691277 button.colab-df-convert');\n",
              "        buttonEl.style.display =\n",
              "          google.colab.kernel.accessAllowed ? 'block' : 'none';\n",
              "\n",
              "        async function convertToInteractive(key) {\n",
              "          const element = document.querySelector('#df-b9fe7170-f721-4345-ad51-8e381f691277');\n",
              "          const dataTable =\n",
              "            await google.colab.kernel.invokeFunction('convertToInteractive',\n",
              "                                                     [key], {});\n",
              "          if (!dataTable) return;\n",
              "\n",
              "          const docLinkHtml = 'Like what you see? Visit the ' +\n",
              "            '<a target=\"_blank\" href=https://colab.research.google.com/notebooks/data_table.ipynb>data table notebook</a>'\n",
              "            + ' to learn more about interactive tables.';\n",
              "          element.innerHTML = '';\n",
              "          dataTable['output_type'] = 'display_data';\n",
              "          await google.colab.output.renderOutput(dataTable, element);\n",
              "          const docLink = document.createElement('div');\n",
              "          docLink.innerHTML = docLinkHtml;\n",
              "          element.appendChild(docLink);\n",
              "        }\n",
              "      </script>\n",
              "    </div>\n",
              "  </div>\n",
              "  "
            ]
          },
          "metadata": {},
          "execution_count": 21
        }
      ]
    },
    {
      "cell_type": "markdown",
      "source": [
        "🔶 Outlier parece estar associado ao uso da droga Y"
      ],
      "metadata": {
        "id": "nFxKD-5Sgmma"
      }
    },
    {
      "cell_type": "markdown",
      "source": [
        "#### Categorical variables"
      ],
      "metadata": {
        "id": "LC5jRoA7qD9T"
      }
    },
    {
      "cell_type": "code",
      "source": [
        "# General distribution | countplot for which variable\n",
        "n_rows=2\n",
        "n_cols=2\n",
        "warnings.filterwarnings(\"ignore\")\n",
        "\n",
        "## Creating subplots\n",
        "fig, axes = plt.subplots(nrows=n_rows, ncols=n_cols)\n",
        "fig.set_size_inches(12, 10)\n",
        "fig.suptitle('Categorical Variables Distribution', fontsize=16)\n",
        "\n",
        "## Creating boxplot\n",
        "for i, column in enumerate(categorical_var):\n",
        "  sns.countplot(df[column], ax=axes[i//n_cols,i%n_cols])\n",
        "\n",
        "plt.show()"
      ],
      "metadata": {
        "colab": {
          "base_uri": "https://localhost:8080/",
          "height": 677
        },
        "id": "4ijycwTQqKhE",
        "outputId": "c8948907-c038-4e79-aeb9-32d85676476f"
      },
      "execution_count": null,
      "outputs": [
        {
          "output_type": "display_data",
          "data": {
            "text/plain": [
              "<Figure size 864x720 with 4 Axes>"
            ],
            "image/png": "[encoded data removed]"
          },
          "metadata": {
            "needs_background": "light"
          }
        }
      ]
    },
    {
      "cell_type": "markdown",
      "source": [
        "🔶 Dados categóricos desbalanceados, especialmente nos dados por grupo de drogas"
      ],
      "metadata": {
        "id": "KGiN_48phRKv"
      }
    },
    {
      "cell_type": "markdown",
      "source": [
        "### Insights de negócio\n",
        "\n",
        "* É possível prescrever corretamente as drogas?\n",
        "\n",
        "Overview:\n",
        "\n",
        "              || Drug A | Drug B | Drug C | Drug X | Drug Y |\n",
        "\n",
        "      |  Age  ||  < 50  |  > 50  |        |        |        |\n",
        "      |  Sex  ||        |        |        |        |        |\n",
        "      |  BP   ||  high  |  high  |  low   |norm/low|        |\n",
        "      |  Chol ||        |        |  high  |        |        |\n",
        "      |  Na_K ||  < 15  |  < 15  |  < 15  |  < 15  |  > 15  |"
      ],
      "metadata": {
        "id": "bQswJUb7NzvA"
      }
    },
    {
      "cell_type": "code",
      "source": [
        "# Grouping the features\n",
        "cont_feature = ['age', 'na_to_k']\n",
        "cat_feature = ['sex', 'bp', 'cholesterol']\n"
      ],
      "metadata": {
        "id": "poJ8v9-We3ng"
      },
      "execution_count": null,
      "outputs": []
    },
    {
      "cell_type": "code",
      "source": [
        "# Analysing target and age with others variables\n",
        "n_rows=2\n",
        "n_cols=2\n",
        "X = 'drug'\n",
        "Y = 'age'\n",
        "H = ['sex', 'bp', 'cholesterol', 'na_to_k']\n",
        "\n",
        "## Subplots\n",
        "fig, axs = plt.subplots(nrows=n_rows, ncols=n_cols)\n",
        "fig.set_size_inches(15, 10)\n",
        "fig.suptitle('Association | Drug + Age + Other variables', fontsize=16)\n",
        "\n",
        "for i, H in enumerate(df[H]):\n",
        "  sns.scatterplot(x=X, y=Y, hue=H, data=df, ax=axs[i//n_cols,i%n_cols])\n",
        "\n",
        "plt.show()"
      ],
      "metadata": {
        "colab": {
          "base_uri": "https://localhost:8080/",
          "height": 677
        },
        "id": "oDXzNSQFaJ_9",
        "outputId": "b7cfc65c-5daa-4d12-8395-303f5d8a64af"
      },
      "execution_count": null,
      "outputs": [
        {
          "output_type": "display_data",
          "data": {
            "text/plain": [
              "<Figure size 1080x720 with 4 Axes>"
            ],
            "image/png": "[encoded data removed]"
          },
          "metadata": {
            "needs_background": "light"
          }
        }
      ]
    },
    {
      "cell_type": "markdown",
      "source": [
        "🔶 Age | idade: \n",
        "* Droga A utilizada para menores de 50 anos\n",
        "* Droga B utilizada para maiores de 50 anos\n",
        "\n",
        "🔶 BP | pressão arterial: \n",
        "* Droga A e droga B para pessoa com pressão alta\n",
        "* Droga C para pessoas com pressão normal\n",
        "* Droga X para pessoas com pressão normal ou baixa \n",
        "\n",
        "🔶 Cholesterol | colesterol:\n",
        "* Uso de C para pessoas com colesterol elevado"
      ],
      "metadata": {
        "id": "CF2wk5NFj8Ji"
      }
    },
    {
      "cell_type": "code",
      "source": [
        "# Analysing target and na_to_k with others variables\n",
        "n_rows=2\n",
        "n_cols=2\n",
        "X = 'drug'\n",
        "Y = 'na_to_k'\n",
        "H = ['sex', 'bp', 'cholesterol', 'age']\n",
        "\n",
        "## Subplots\n",
        "fig, axs = plt.subplots(nrows=n_rows, ncols=n_cols)\n",
        "fig.set_size_inches(15, 10)\n",
        "fig.suptitle('Association | Drug + Na to K + Other variables', fontsize=16)\n",
        "\n",
        "for i, H in enumerate(df[H]):\n",
        "  sns.scatterplot(x=X, y=Y, hue=H, data=df, ax=axs[i//n_cols,i%n_cols])\n",
        "\n",
        "plt.show()"
      ],
      "metadata": {
        "colab": {
          "base_uri": "https://localhost:8080/",
          "height": 677
        },
        "id": "nbAur9rW9p0a",
        "outputId": "1d075320-678f-4783-f9b9-e38f45522f2d"
      },
      "execution_count": null,
      "outputs": [
        {
          "output_type": "display_data",
          "data": {
            "text/plain": [
              "<Figure size 1080x720 with 4 Axes>"
            ],
            "image/png": "[encoded data removed]"
          },
          "metadata": {
            "needs_background": "light"
          }
        }
      ]
    },
    {
      "cell_type": "markdown",
      "source": [
        "🔶 Na to K:\n",
        "* Droga Y utilizada se razão for maior que 15mEq/24 horas\n",
        "\n",
        "🔶 Sexo: Feature não relevante?"
      ],
      "metadata": {
        "id": "GbMmDEzij-zL"
      }
    },
    {
      "cell_type": "markdown",
      "source": [
        "## Modelagem\n",
        "* Os insights não permitiram definir com precisão quais drogas podem ser utilizadas conforme os atributos, logo irei proceguir com construção de modelos de classficação.\n",
        "* São problemas de classificação supervisionada, quando queremos que o algoritmo preveja determinadas categorias a partir de algumas características. \n",
        "* No caso, as categorias são os tipos de tratamento prescrito (droga a, b, c, x ou y) e as característica são os atributos abaixo.\n",
        "\n",
        "🔶 Alvo: \n",
        "* Drug | droga\n",
        "\n",
        "🔶 Atributos numéricos contínuos: \n",
        "* Age | idade \n",
        "* Na_to_K | razão Na e K\n",
        "\n",
        "🔶 Atributos categóricos: \n",
        "* Sex | sexo\n",
        "* BP | pressão arterial\n",
        "* Cholesterol | colesterol"
      ],
      "metadata": {
        "id": "D64PYk1NV71V"
      }
    },
    {
      "cell_type": "markdown",
      "source": [
        "#### Engenharia de atributos\n",
        "* Como temos dados categóricos, é necessário que realizemos a transformação do texto para valores numéricos. Isso favorece o aprendizado de máquina, uma vez que a linguagem dela é binária(0 e 1)."
      ],
      "metadata": {
        "id": "gVzY7FcA8RWK"
      }
    },
    {
      "cell_type": "code",
      "source": [
        "# Label enconding\n",
        "\n",
        "## Variables\n",
        "le = LabelEncoder()\n",
        "bp = ['low', 'normal', 'high'] #To define the label order\n",
        "chol = ['normal', 'high'] #To define the label order\n",
        "\n",
        "\n",
        "## Fit transform | columns sex & drug\n",
        "for c in ['sex', 'drug']:\n",
        "  df[c] = le.fit_transform(df[c])\n",
        "  \n",
        "## fit transform | column blood pressure\n",
        "le.fit(df['bp'])\n",
        "le.classes_ = np.array(bp) #Specifying the label order\n",
        "df['bp'] = le.transform(df['bp'])\n",
        "\n",
        "## fit transform | column cholesterol\n",
        "le.fit(df['cholesterol'])\n",
        "le.classes_ = np.array(chol) #Specifying the label order\n",
        "df['cholesterol'] = le.transform(df['cholesterol'])\n"
      ],
      "metadata": {
        "id": "Yljsun0f8U1c"
      },
      "execution_count": null,
      "outputs": []
    },
    {
      "cell_type": "code",
      "source": [
        "df.head()"
      ],
      "metadata": {
        "colab": {
          "base_uri": "https://localhost:8080/",
          "height": 204
        },
        "id": "bIMOgV_9_Vaw",
        "outputId": "3d0ebbd2-8709-48f3-a3f2-18e307ee615c"
      },
      "execution_count": null,
      "outputs": [
        {
          "output_type": "execute_result",
          "data": {
            "text/plain": [
              "   age  sex  bp  cholesterol  na_to_k  drug\n",
              "0   23    0   2            1   25.355     4\n",
              "1   47    1   0            1   13.093     2\n",
              "2   47    1   0            1   10.114     2\n",
              "3   28    0   1            1    7.798     3\n",
              "4   61    0   0            1   18.043     4"
            ],
            "text/html": [
              "\n",
              "  <div id=\"df-7a2be69c-ac4f-44b5-bae5-c15e3f4513c6\">\n",
              "    <div class=\"colab-df-container\">\n",
              "      <div>\n",
              "<style scoped>\n",
              "    .dataframe tbody tr th:only-of-type {\n",
              "        vertical-align: middle;\n",
              "    }\n",
              "\n",
              "    .dataframe tbody tr th {\n",
              "        vertical-align: top;\n",
              "    }\n",
              "\n",
              "    .dataframe thead th {\n",
              "        text-align: right;\n",
              "    }\n",
              "</style>\n",
              "<table border=\"1\" class=\"dataframe\">\n",
              "  <thead>\n",
              "    <tr style=\"text-align: right;\">\n",
              "      <th></th>\n",
              "      <th>age</th>\n",
              "      <th>sex</th>\n",
              "      <th>bp</th>\n",
              "      <th>cholesterol</th>\n",
              "      <th>na_to_k</th>\n",
              "      <th>drug</th>\n",
              "    </tr>\n",
              "  </thead>\n",
              "  <tbody>\n",
              "    <tr>\n",
              "      <th>0</th>\n",
              "      <td>23</td>\n",
              "      <td>0</td>\n",
              "      <td>2</td>\n",
              "      <td>1</td>\n",
              "      <td>25.355</td>\n",
              "      <td>4</td>\n",
              "    </tr>\n",
              "    <tr>\n",
              "      <th>1</th>\n",
              "      <td>47</td>\n",
              "      <td>1</td>\n",
              "      <td>0</td>\n",
              "      <td>1</td>\n",
              "      <td>13.093</td>\n",
              "      <td>2</td>\n",
              "    </tr>\n",
              "    <tr>\n",
              "      <th>2</th>\n",
              "      <td>47</td>\n",
              "      <td>1</td>\n",
              "      <td>0</td>\n",
              "      <td>1</td>\n",
              "      <td>10.114</td>\n",
              "      <td>2</td>\n",
              "    </tr>\n",
              "    <tr>\n",
              "      <th>3</th>\n",
              "      <td>28</td>\n",
              "      <td>0</td>\n",
              "      <td>1</td>\n",
              "      <td>1</td>\n",
              "      <td>7.798</td>\n",
              "      <td>3</td>\n",
              "    </tr>\n",
              "    <tr>\n",
              "      <th>4</th>\n",
              "      <td>61</td>\n",
              "      <td>0</td>\n",
              "      <td>0</td>\n",
              "      <td>1</td>\n",
              "      <td>18.043</td>\n",
              "      <td>4</td>\n",
              "    </tr>\n",
              "  </tbody>\n",
              "</table>\n",
              "</div>\n",
              "      <button class=\"colab-df-convert\" onclick=\"convertToInteractive('df-7a2be69c-ac4f-44b5-bae5-c15e3f4513c6')\"\n",
              "              title=\"Convert this dataframe to an interactive table.\"\n",
              "              style=\"display:none;\">\n",
              "        \n",
              "  <svg xmlns=\"http://www.w3.org/2000/svg\" height=\"24px\"viewBox=\"0 0 24 24\"\n",
              "       width=\"24px\">\n",
              "    <path d=\"M0 0h24v24H0V0z\" fill=\"none\"/>\n",
              "    <path d=\"M18.56 5.44l.94 2.06.94-2.06 2.06-.94-2.06-.94-.94-2.06-.94 2.06-2.06.94zm-11 1L8.5 8.5l.94-2.06 2.06-.94-2.06-.94L8.5 2.5l-.94 2.06-2.06.94zm10 10l.94 2.06.94-2.06 2.06-.94-2.06-.94-.94-2.06-.94 2.06-2.06.94z\"/><path d=\"M17.41 7.96l-1.37-1.37c-.4-.4-.92-.59-1.43-.59-.52 0-1.04.2-1.43.59L10.3 9.45l-7.72 7.72c-.78.78-.78 2.05 0 2.83L4 21.41c.39.39.9.59 1.41.59.51 0 1.02-.2 1.41-.59l7.78-7.78 2.81-2.81c.8-.78.8-2.07 0-2.86zM5.41 20L4 18.59l7.72-7.72 1.47 1.35L5.41 20z\"/>\n",
              "  </svg>\n",
              "      </button>\n",
              "      \n",
              "  <style>\n",
              "    .colab-df-container {\n",
              "      display:flex;\n",
              "      flex-wrap:wrap;\n",
              "      gap: 12px;\n",
              "    }\n",
              "\n",
              "    .colab-df-convert {\n",
              "      background-color: #E8F0FE;\n",
              "      border: none;\n",
              "      border-radius: 50%;\n",
              "      cursor: pointer;\n",
              "      display: none;\n",
              "      fill: #1967D2;\n",
              "      height: 32px;\n",
              "      padding: 0 0 0 0;\n",
              "      width: 32px;\n",
              "    }\n",
              "\n",
              "    .colab-df-convert:hover {\n",
              "      background-color: #E2EBFA;\n",
              "      box-shadow: 0px 1px 2px rgba(60, 64, 67, 0.3), 0px 1px 3px 1px rgba(60, 64, 67, 0.15);\n",
              "      fill: #174EA6;\n",
              "    }\n",
              "\n",
              "    [theme=dark] .colab-df-convert {\n",
              "      background-color: #3B4455;\n",
              "      fill: #D2E3FC;\n",
              "    }\n",
              "\n",
              "    [theme=dark] .colab-df-convert:hover {\n",
              "      background-color: #434B5C;\n",
              "      box-shadow: 0px 1px 3px 1px rgba(0, 0, 0, 0.15);\n",
              "      filter: drop-shadow(0px 1px 2px rgba(0, 0, 0, 0.3));\n",
              "      fill: #FFFFFF;\n",
              "    }\n",
              "  </style>\n",
              "\n",
              "      <script>\n",
              "        const buttonEl =\n",
              "          document.querySelector('#df-7a2be69c-ac4f-44b5-bae5-c15e3f4513c6 button.colab-df-convert');\n",
              "        buttonEl.style.display =\n",
              "          google.colab.kernel.accessAllowed ? 'block' : 'none';\n",
              "\n",
              "        async function convertToInteractive(key) {\n",
              "          const element = document.querySelector('#df-7a2be69c-ac4f-44b5-bae5-c15e3f4513c6');\n",
              "          const dataTable =\n",
              "            await google.colab.kernel.invokeFunction('convertToInteractive',\n",
              "                                                     [key], {});\n",
              "          if (!dataTable) return;\n",
              "\n",
              "          const docLinkHtml = 'Like what you see? Visit the ' +\n",
              "            '<a target=\"_blank\" href=https://colab.research.google.com/notebooks/data_table.ipynb>data table notebook</a>'\n",
              "            + ' to learn more about interactive tables.';\n",
              "          element.innerHTML = '';\n",
              "          dataTable['output_type'] = 'display_data';\n",
              "          await google.colab.output.renderOutput(dataTable, element);\n",
              "          const docLink = document.createElement('div');\n",
              "          docLink.innerHTML = docLinkHtml;\n",
              "          element.appendChild(docLink);\n",
              "        }\n",
              "      </script>\n",
              "    </div>\n",
              "  </div>\n",
              "  "
            ]
          },
          "metadata": {},
          "execution_count": 27
        }
      ]
    },
    {
      "cell_type": "markdown",
      "source": [
        "🔶 Transformação dos dados categóricos em números sequenciais de 0 a 4 com label enconder.\n",
        "\n",
        "              |  sex  |  drug  |   bp   | cholesterol |\n",
        "            0 |   f   |    a   |  low   |    normal   |\n",
        "            1 |   m   |    b   | normal |     high    |\n",
        "            2 |       |    c   |  high  |\n",
        "            3 |       |    x   |\n",
        "            4 |       |    y   |"
      ],
      "metadata": {
        "id": "Kr7dDWo5oT45"
      }
    },
    {
      "cell_type": "markdown",
      "source": [
        "### Definção das funções"
      ],
      "metadata": {
        "id": "mt1xdep9koyO"
      }
    },
    {
      "cell_type": "code",
      "source": [
        "# Creating a function which create scenarios with all situations defined\n",
        "\n",
        "def create_scenarios(features, algorithm):\n",
        "  ''' It combines de list of strings from variables to create \n",
        "  differents scenarios to run de model.\n",
        "  Input: variables separated by coma. Each variable contains a list of strings.\n",
        "        if there are no situation in some variable, insert 'none'. \n",
        "  Output: a variable called 'scenarios' which contains a list of dictionary. '''\n",
        "\n",
        "  # Creating scenarios/combinations\n",
        "  global scenarios \n",
        "  scenarios = []\n",
        "  for f in features:\n",
        "    for a in algorithm:\n",
        "      scenario = {'features': f,\n",
        "                  'algorithm': a,\n",
        "                 }\n",
        "      scenarios.append(scenario)\n",
        "  print(f'There are {len(scenarios)} possible scenarios.')"
      ],
      "metadata": {
        "id": "CXuXiDBWpxUm"
      },
      "execution_count": null,
      "outputs": []
    },
    {
      "cell_type": "markdown",
      "source": [
        "🔶 A função cenários permite a criação de todos as situações possíveis de modelagem por meio da combinação de variáveis definidas. \n",
        "\n",
        "🔶 Podemos inserir transformações e algoritmos conforme necessidade (features, scalling, outlier, rebalance, algorithm). \n",
        "\n",
        "🔶 Ela irá retornar uma lista de dicionário com todos os cenários e realizará uma visualização do número total de combinações geradas."
      ],
      "metadata": {
        "id": "BhU5Fp1YoiR5"
      }
    },
    {
      "cell_type": "code",
      "source": [
        "## Creating a function which runs the functions for each scenario\n",
        "\n",
        "def run_model(df, scenario, target):\n",
        "  '''\n",
        "  Function to run the selected scenario.\n",
        "  Input: dataframe,\n",
        "         variable 'scenario'\n",
        "  Output: return the scenario analysed and the metrics.\n",
        "  '''\n",
        "  results = []\n",
        "\n",
        "  # Running each scenario\n",
        "  for n in range(5000):  \n",
        "    if scenario['features'] == 'all':\n",
        "      dft = df\n",
        "\n",
        "    ## Split train & test0\n",
        "    X = dft.drop(columns = target)\n",
        "    y = dft[target]\n",
        "    X_train, X_test, y_train, y_test = train_test_split(X, y, test_size=0.2)\n",
        "\n",
        "    ## algorithm\n",
        "    if scenario['algorithm'] == 'dummy':\n",
        "      model = DummyClassifier()\n",
        "      model.fit(X_train, y_train)\n",
        "      y_pred = model.predict(X_test)\n",
        "    elif scenario['algorithm'] == 'logistic':\n",
        "      model = LogisticRegression() \n",
        "      model.fit(X_train, y_train)\n",
        "      y_pred = model.predict(X_test)\n",
        "    elif scenario['algorithm'] == 'knn':\n",
        "      model = KNeighborsClassifier()\n",
        "      model.fit(X_train, y_train)\n",
        "      y_pred = model.predict(X_test)\n",
        "    elif scenario['algorithm'] == 'tree_clas':\n",
        "      model = DecisionTreeClassifier()\n",
        "      model.fit(X_train, y_train)\n",
        "      y_pred = model.predict(X_test)\n",
        "    elif scenario['algorithm'] == 'random':\n",
        "      model = RandomForestClassifier()\n",
        "      model.fit(X_train, y_train)\n",
        "      y_pred = model.predict(X_test)\n",
        "\n",
        "    ## Metrics & append\n",
        "    results.append({'Scenario': scenario,\n",
        "                    'Accuracy': accuracy_score(y_test, y_pred), \n",
        "                    'Precision': precision_score(y_test, y_pred, average='weighted'),\n",
        "                    'Recall': recall_score(y_test, y_pred, average='weighted'),\n",
        "                    'F1-score': f1_score(y_test, y_pred, average='weighted')})\n",
        "  return results\n"
      ],
      "metadata": {
        "id": "kCbY-26Vwiin"
      },
      "execution_count": null,
      "outputs": []
    },
    {
      "cell_type": "markdown",
      "source": [
        "🔶 A função de rodar os cenários permite que as transformações ou os algoritmos possam rodar conforme as variações de cada cenário/situação. \n",
        "\n",
        "🔶 Devemos definir o cenário que queremos analisar e a função rodará 5000 vezes o mesmo cenário, com diferentes pontos de partida.\n",
        "\n",
        "🔶 Devemos inserir a variável que contém o dataframe, o cenário escolhido e o alvo que queremos predizer.\n",
        "\n",
        "🔶 Ela irá retornar uma lista de dicionários contendo o cenário e as métricas de performance (acurácia, precisão, recall e F1-score)\n",
        "\n",
        "🔶 Acurácia nos dará o quanto o algoritmo acertou a sua previsão considerando positivos e negativos. No cálculo analisa-se todas as previsões corretas(positivo/TP e negativos/TN) sobre todos os resultados (positivos e negativos corretos e incorretos/TP, FP, TN, FN)\n",
        "\n",
        "🔶 Precisão nos dará o quanto o algoritmo acertou a sua previsão considerando apenas os positivos previstos. No cálculo analisa-se quais previsões positivas corretas foram feitas(TP) sobre a total de positivos previstos (positivos corretos/TP e incorretos/FP).\n",
        "\n",
        "🔶 Recall nos dará o quanto o algoritmo acertou a sua previsão, considerando os reais positivos. No cáclculo analisa-se todas as previsões corretas/TP sobre os valores que são realmente positivos no dataframe, ou seja, positivo previstos adequamente/TP e os negativos previstos errados/FN.\n",
        "\n",
        "🔶 F1-score nos dará o quanto o algoritmo conseguiu prever e incluir corretamente os valores positivos. No cálculo analisa-se o total de positivos previstos corretamente sobre o o total de positivos reais do dataframe/TP+FN e previstos incorretamente/FP.\n"
      ],
      "metadata": {
        "id": "2kquTrVLpzKL"
      }
    },
    {
      "cell_type": "code",
      "source": [
        "## Creating funtion to histogram of metrics\n",
        "\n",
        "def hist_model(scen):\n",
        "  ''' \n",
        "  Funtion to return a histogram of model's metrics:\n",
        "  Accuracy, Precision, Recall, F1-score.\n",
        "  Scen is the model's result transformed into dataframe.\n",
        "  '''\n",
        "  # Ploting a histogram to analyse the medium value\n",
        "  n_rows = 2\n",
        "  n_cols = 2\n",
        "\n",
        "  # Creating the figure\n",
        "  fig, axs = plt.subplots(nrows=n_rows, ncols=n_cols)\n",
        "  fig.set_size_inches(7, 7)\n",
        "  fig.suptitle(scenario, fontsize=16)\n",
        "\n",
        "  ## Creating histograms\n",
        "  axs[0,0].hist(scen['Accuracy'])\n",
        "  axs[0,0].set_title('Accuracy')\n",
        "  axs[0,1].hist(scen['Precision'])\n",
        "  axs[0,1].set_title('Precision')\n",
        "  axs[1,0].hist(scen['Recall'])\n",
        "  axs[1,0].set_title('Recall')\n",
        "  axs[1,1].hist(scen['F1-score'])\n",
        "  axs[1,1].set_title('F1-score')\n",
        "\n",
        "  plt.show()"
      ],
      "metadata": {
        "id": "1Vk4pP_U0Quy"
      },
      "execution_count": null,
      "outputs": []
    },
    {
      "cell_type": "markdown",
      "source": [
        "🔶 A função histograma padroniza a geração de um histograma para cada métrica avaliada após rodarmos um cenário. \n",
        "\n",
        "🔶 Retornará um gráfico de dispersão, onde poderemos visualizar a moda(valor mais frequente) de cada métrica. "
      ],
      "metadata": {
        "id": "WtCwMuYIrV2z"
      }
    },
    {
      "cell_type": "markdown",
      "source": [
        "### Criando os cenários"
      ],
      "metadata": {
        "id": "05uabPYZQ1ja"
      }
    },
    {
      "cell_type": "code",
      "source": [
        "# Defining variables\n",
        "features = ['all']\n",
        "algorithm = ['dummy', 'logistic', 'knn', 'tree_clas', 'random']\n",
        "target = ['drug']"
      ],
      "metadata": {
        "id": "zYrd_lxUw7w3"
      },
      "execution_count": null,
      "outputs": []
    },
    {
      "cell_type": "code",
      "source": [
        "create_scenarios(features, algorithm)"
      ],
      "metadata": {
        "colab": {
          "base_uri": "https://localhost:8080/"
        },
        "id": "pTX8LWjrxzLo",
        "outputId": "5b56798f-6ff0-4f74-f3dc-2ce213dd8a7c"
      },
      "execution_count": null,
      "outputs": [
        {
          "output_type": "stream",
          "name": "stdout",
          "text": [
            "There are 5 possible scenarios.\n"
          ]
        }
      ]
    },
    {
      "cell_type": "markdown",
      "source": [
        "🔶 Teremos um cenário de análise para cada tipo de algoritmo."
      ],
      "metadata": {
        "id": "TBFXshSg3RXv"
      }
    },
    {
      "cell_type": "markdown",
      "source": [
        "### Testando os cenários\n",
        "\n",
        "* Algoritmo de base == Dummy Classifier\n",
        "* Uma vez que a meta é prever corretamente os valores e diminuir o número de erros, a métrica que escolhi como principal de performance foi a acurácia."
      ],
      "metadata": {
        "id": "wZOkpTMM3Gs3"
      }
    },
    {
      "cell_type": "code",
      "source": [
        "# SCENARIO 01\n",
        "\n",
        "## Runnig the model\n",
        "scenario = scenarios[0]\n",
        "scen_0 = pd.DataFrame(run_model(df, scenario, target))\n",
        "\n",
        "## Calling hist_model\n",
        "scen = scen_0 \n",
        "hist_model(scen)\n",
        "\n"
      ],
      "metadata": {
        "colab": {
          "base_uri": "https://localhost:8080/",
          "height": 479
        },
        "id": "7raz-gOuVTsa",
        "outputId": "56d9c263-4e45-4a80-98ab-2b9b4e5fc3c2"
      },
      "execution_count": null,
      "outputs": [
        {
          "output_type": "display_data",
          "data": {
            "text/plain": [
              "<Figure size 504x504 with 4 Axes>"
            ],
            "image/png": "[encoded data removed]"
          },
          "metadata": {
            "needs_background": "light"
          }
        }
      ]
    },
    {
      "cell_type": "markdown",
      "source": [
        "🔶 Aproximadamente 50% dados foi previsto corretamente\n",
        "\n",
        "🔶 Aproximadamente 20% dos positivos previstos estavam corretos\n",
        "\n",
        "🔶 Aproximadamente 50% dos dados positivos foram previstos pelo algoritmo\n",
        "\n",
        "🔶 Aproximadamente 30% dos dados positivos do dataframe e previstos estavam corretos\n",
        "\n",
        "🔶 O dummy classifier irá ver qual atritbuto é mais frequente no treinamento e irá realizar a predição a partir desse dado. "
      ],
      "metadata": {
        "id": "TYBpQQuX4Biu"
      }
    },
    {
      "cell_type": "code",
      "source": [
        "# SCENARIO 02\n",
        "\n",
        "## Runnig the model\n",
        "scenario = scenarios[1]\n",
        "scen_1 = pd.DataFrame(run_model(df, scenario, target))\n",
        "\n",
        "## Calling hist_model\n",
        "scen = scen_1 \n",
        "hist_model(scen)"
      ],
      "metadata": {
        "colab": {
          "base_uri": "https://localhost:8080/",
          "height": 479
        },
        "id": "SZXw7T5swiDE",
        "outputId": "b93cafd3-d8ca-4d46-8469-267cb591c6d5"
      },
      "execution_count": null,
      "outputs": [
        {
          "output_type": "display_data",
          "data": {
            "text/plain": [
              "<Figure size 504x504 with 4 Axes>"
            ],
            "image/png": "[encoded data removed]"
          },
          "metadata": {
            "needs_background": "light"
          }
        }
      ]
    },
    {
      "cell_type": "markdown",
      "source": [
        "🔶 Aproximadamente 90% dados foi previsto corretamente\n",
        "\n",
        "🔶 Aproximadamente 95% dos positivos previstos estavam corretos\n",
        "\n",
        "🔶 Aproximadamente 90% dos dados positivos foram previstos pelo algoritmo\n",
        "\n",
        "🔶 Aproximadamente 95% dos dados positivos do dataframe e previstos estavam corretos\n",
        "\n",
        "🔶 A regressão logística irá analisar a relação entre os atributos e calcular a probabilidade do tipo de tratamento prescrito a partir disso. "
      ],
      "metadata": {
        "id": "yDEvCRDY57D7"
      }
    },
    {
      "cell_type": "code",
      "source": [
        "# SCENARIO 03\n",
        "\n",
        "## Runnig the model\n",
        "scenario = scenarios[2]\n",
        "scen_3 = pd.DataFrame(run_model(df, scenario, target))\n",
        "\n",
        "## Calling hist_model\n",
        "scen = scen_3\n",
        "hist_model(scen)"
      ],
      "metadata": {
        "colab": {
          "base_uri": "https://localhost:8080/",
          "height": 479
        },
        "id": "bvpTcIzXwh0Y",
        "outputId": "3a966731-72f1-495e-ca10-3658a09fcb3d"
      },
      "execution_count": null,
      "outputs": [
        {
          "output_type": "display_data",
          "data": {
            "text/plain": [
              "<Figure size 504x504 with 4 Axes>"
            ],
            "image/png": "[encoded data removed]"
          },
          "metadata": {
            "needs_background": "light"
          }
        }
      ]
    },
    {
      "cell_type": "markdown",
      "source": [
        "🔶 Aproximadamente 65% dados foi previsto corretamente\n",
        "\n",
        "🔶 Aproximadamente 65% dos positivos previstos estavam corretos\n",
        "\n",
        "🔶 Aproximadamente 65% dos dados positivos foram previstos pelo algoritmo\n",
        "\n",
        "🔶 Aproximadamente 65% dos dados positivos do dataframe e previstos estavam corretos\n",
        "\n",
        "🔶 O KNN irá analisar a similaridade entre os atributos e utilizar essas características semelhantes/próximas para classificar o tipo de tratamento. "
      ],
      "metadata": {
        "id": "uFM7z6I46NOA"
      }
    },
    {
      "cell_type": "code",
      "source": [
        "# SCENARIO 04\n",
        "\n",
        "## Runnig the model\n",
        "scenario = scenarios[3]\n",
        "scen_4 = pd.DataFrame(run_model(df, scenario, target))\n",
        "\n",
        "## Calling hist_model\n",
        "scen = scen_4\n",
        "hist_model(scen)"
      ],
      "metadata": {
        "colab": {
          "base_uri": "https://localhost:8080/",
          "height": 479
        },
        "id": "v9I4uLnC2umB",
        "outputId": "31ff6030-8a4e-4128-ca8f-27cf16586f0b"
      },
      "execution_count": null,
      "outputs": [
        {
          "output_type": "display_data",
          "data": {
            "text/plain": [
              "<Figure size 504x504 with 4 Axes>"
            ],
            "image/png": "[encoded data removed]"
          },
          "metadata": {
            "needs_background": "light"
          }
        }
      ]
    },
    {
      "cell_type": "markdown",
      "source": [
        "🔶 Aproximadamente 100% dados foi previsto corretamente\n",
        "\n",
        "🔶 Aproximadamente 100% dos positivos previstos estavam corretos\n",
        "\n",
        "🔶 Aproximadamente 100% dos dados positivos foram previstos pelo algoritmo\n",
        "\n",
        "🔶 Aproximadamente 100% dos dados positivos do dataframe e previstos estavam corretos\n",
        "\n",
        "🔶 Em situações como esta devemos analisar se o algoritmo apresentou overfitting(adequou muito bem os dados e terá problemas em generalizar).\n",
        "\n",
        "🔶 A árvore de decisão (ID3) irá trabalhar de forma binária a análise (sim ou não) de cada atributo por meio do cálculo de entropia e ganho de informação. Cada nó dela representa um atributo e cada nó terá ramos, ou seja, divisões de sim ou não. Quando a árvore conseguir definir a saída, que seria a classificação, esse dados será chamado de folha da árvore. "
      ],
      "metadata": {
        "id": "x286vJ2l65We"
      }
    },
    {
      "cell_type": "code",
      "source": [
        "# SCENARIO 05\n",
        "\n",
        "## Runnig the model\n",
        "scenario = scenarios[4]\n",
        "scen_4 = pd.DataFrame(run_model(df, scenario, target))\n",
        "\n",
        "## Calling hist_model\n",
        "scen = scen_4\n",
        "hist_model(scen)"
      ],
      "metadata": {
        "colab": {
          "base_uri": "https://localhost:8080/",
          "height": 479
        },
        "id": "F53cd3hakNLD",
        "outputId": "89ba8bbd-74fc-478a-9c0f-acf37f357e54"
      },
      "execution_count": null,
      "outputs": [
        {
          "output_type": "display_data",
          "data": {
            "text/plain": [
              "<Figure size 504x504 with 4 Axes>"
            ],
            "image/png": "[encoded data removed]"
          },
          "metadata": {
            "needs_background": "light"
          }
        }
      ]
    },
    {
      "cell_type": "markdown",
      "source": [
        "🔶 Aproximadamente 100% dados foi previsto corretamente\n",
        "\n",
        "🔶 Aproximadamente 100% dos positivos previstos estavam corretos\n",
        "\n",
        "🔶 Aproximadamente 100% dos dados positivos foram previstos pelo algoritmo\n",
        "\n",
        "🔶 Aproximadamente 100% dos dados positivos do dataframe e previstos estavam corretos\n",
        "\n",
        "🔶 Em situações como esta devemos analisar se o algoritmo memorizou os dados (overfitting), \n",
        "algo frequente em árvores de decisão.\n",
        "\n",
        "🔶 O random Forest Classifier consiste em diversas árvores de decisão operando em conjunto, logo, o modo como os dados serão analisados segue os mesmos hiperparâmetros. O benefício dele algoritmo é que as árvores irão auxiliar umas às outras para evitar erros individuais, quando diversos."
      ],
      "metadata": {
        "id": "wE93XpsX7dEt"
      }
    },
    {
      "cell_type": "code",
      "source": [
        "# Metrics from the better result >> logistic regression\n",
        "scen_1.mean()"
      ],
      "metadata": {
        "colab": {
          "base_uri": "https://localhost:8080/"
        },
        "id": "KgT1WYhdZn63",
        "outputId": "893d59a2-39ce-4135-e167-79ea2fb4ecd8"
      },
      "execution_count": null,
      "outputs": [
        {
          "output_type": "execute_result",
          "data": {
            "text/plain": [
              "Accuracy     0.891255\n",
              "Precision    0.906716\n",
              "Recall       0.891255\n",
              "F1-score     0.889155\n",
              "dtype: float64"
            ]
          },
          "metadata": {},
          "execution_count": 38
        }
      ]
    },
    {
      "cell_type": "markdown",
      "source": [
        "🔶 Nessa primeira análise, sem realizar tuning dos modelos, a melhor performance foi com regressão logística, que apresentou uma acurácia de 89%."
      ],
      "metadata": {
        "id": "kYBaT2yK7ym2"
      }
    },
    {
      "cell_type": "markdown",
      "source": [
        "## Conclusões e próximos passos\n",
        "\n",
        "* A meta é compreender quando realizaremos o menor números de erros, logo, utilizarei como métrica para definição de performance a acurácia.\n",
        "* O modelo com melhor performance foi regressão logística, com resultado de 89% do tratamento corretamente previsto.\n",
        "* Este é um bom resultado para um MVP 😃\n",
        "* Como próximos passo, priorizaria o tunig da árvore de decisão e random forest, incluindo análise de overfitting.\n",
        "* Calcular ANOVA para analisar correlação de variáveis ou feature importance para analisar importância das features para o modelo.\n",
        "* Aplicar balanceamento dos dados, exemplo SMOTE.\n",
        "* Assim que possível, inserir análise das doses para buscarmos maior granularidade dos dados e segurança no apoio à prescrição dos medicamentos."
      ],
      "metadata": {
        "id": "93QRevG5CeS9"
      }
    },
    {
      "cell_type": "markdown",
      "source": [
        "## Referências\n",
        "https://pebmed.com.br/consumo-de-sodio-e-potassio-e-risco-cardiovascular/\n",
        "\n",
        "https://ilumeo.com.br/todos-posts/2020/06/22/um-tour-pelos-10-principais-algoritmos-de-machine-learning\n",
        "\n",
        "https://ankitnitjsr13.medium.com\n",
        "\n",
        "https://towardsdatascience.com/understanding-random-forest-58381e0602d2\n",
        "\n",
        "\n"
      ],
      "metadata": {
        "id": "wtfB8_PJi3Fj"
      }
    }
  ]
}
